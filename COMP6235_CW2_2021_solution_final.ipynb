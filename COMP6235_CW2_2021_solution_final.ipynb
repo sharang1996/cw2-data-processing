{
 "cells": [
  {
   "cell_type": "markdown",
   "metadata": {},
   "source": [
    "# Coursework 2: Data Processing\n",
    "\n",
    "## Task 1\n",
    "This coursework will assess your understanding of using NoSQL to store and retrieve data.  You will perform operations on data from a collection of scientific articles in a MongoDB database.  You will be required to run code to answer the given questions in the Jupyter notebook provided.\n",
    "\n",
    "Download the dataset and import into a collection called 'articles' in a database called 'dblp'.  You do not need to set up any authentication.  Answer the following questions in the provided cells.\n",
    "\n",
    "Answers should be efficient in terms of speed.  Answers which are less efficient will not get full marks."
   ]
  },
  {
   "cell_type": "code",
   "execution_count": 1,
   "metadata": {
    "ExecuteTime": {
     "end_time": "2020-12-09T18:35:40.765456Z",
     "start_time": "2020-12-09T18:33:16.100786Z"
    }
   },
   "outputs": [
    {
     "name": "stderr",
     "output_type": "stream",
     "text": [
      "2020-12-09T18:33:16.242+0000\tconnected to: mongodb://localhost/\n",
      "2020-12-09T18:33:19.246+0000\t[........................] dblp.articles\t25.5MB/1.13GB (2.2%)\n",
      "2020-12-09T18:33:22.243+0000\t[#.......................] dblp.articles\t50.6MB/1.13GB (4.4%)\n",
      "2020-12-09T18:33:25.242+0000\t[#.......................] dblp.articles\t75.1MB/1.13GB (6.5%)\n",
      "2020-12-09T18:33:28.250+0000\t[##......................] dblp.articles\t99.6MB/1.13GB (8.6%)\n",
      "2020-12-09T18:33:31.249+0000\t[##......................] dblp.articles\t125MB/1.13GB (10.8%)\n",
      "2020-12-09T18:33:34.244+0000\t[###.....................] dblp.articles\t149MB/1.13GB (12.9%)\n",
      "2020-12-09T18:33:37.242+0000\t[###.....................] dblp.articles\t174MB/1.13GB (15.0%)\n",
      "2020-12-09T18:33:40.250+0000\t[####....................] dblp.articles\t197MB/1.13GB (17.0%)\n",
      "2020-12-09T18:33:43.243+0000\t[####....................] dblp.articles\t220MB/1.13GB (19.0%)\n",
      "2020-12-09T18:33:46.250+0000\t[#####...................] dblp.articles\t245MB/1.13GB (21.1%)\n",
      "2020-12-09T18:33:49.242+0000\t[#####...................] dblp.articles\t268MB/1.13GB (23.1%)\n",
      "2020-12-09T18:33:52.242+0000\t[######..................] dblp.articles\t292MB/1.13GB (25.2%)\n",
      "2020-12-09T18:33:55.246+0000\t[######..................] dblp.articles\t315MB/1.13GB (27.2%)\n",
      "2020-12-09T18:33:58.242+0000\t[#######.................] dblp.articles\t339MB/1.13GB (29.2%)\n",
      "2020-12-09T18:34:01.243+0000\t[#######.................] dblp.articles\t365MB/1.13GB (31.4%)\n",
      "2020-12-09T18:34:04.242+0000\t[########................] dblp.articles\t389MB/1.13GB (33.5%)\n",
      "2020-12-09T18:34:07.242+0000\t[########................] dblp.articles\t412MB/1.13GB (35.6%)\n",
      "2020-12-09T18:34:10.244+0000\t[#########...............] dblp.articles\t437MB/1.13GB (37.7%)\n",
      "2020-12-09T18:34:13.244+0000\t[#########...............] dblp.articles\t462MB/1.13GB (39.8%)\n",
      "2020-12-09T18:34:16.242+0000\t[##########..............] dblp.articles\t486MB/1.13GB (41.9%)\n",
      "2020-12-09T18:34:19.242+0000\t[##########..............] dblp.articles\t511MB/1.13GB (44.1%)\n",
      "2020-12-09T18:34:22.244+0000\t[###########.............] dblp.articles\t535MB/1.13GB (46.2%)\n",
      "2020-12-09T18:34:25.242+0000\t[###########.............] dblp.articles\t559MB/1.13GB (48.2%)\n",
      "2020-12-09T18:34:28.242+0000\t[############............] dblp.articles\t583MB/1.13GB (50.3%)\n",
      "2020-12-09T18:34:31.246+0000\t[############............] dblp.articles\t607MB/1.13GB (52.4%)\n",
      "2020-12-09T18:34:34.244+0000\t[#############...........] dblp.articles\t632MB/1.13GB (54.5%)\n",
      "2020-12-09T18:34:37.242+0000\t[#############...........] dblp.articles\t657MB/1.13GB (56.7%)\n",
      "2020-12-09T18:34:40.242+0000\t[##############..........] dblp.articles\t681MB/1.13GB (58.8%)\n",
      "2020-12-09T18:34:43.242+0000\t[##############..........] dblp.articles\t706MB/1.13GB (60.9%)\n",
      "2020-12-09T18:34:46.242+0000\t[###############.........] dblp.articles\t731MB/1.13GB (63.0%)\n",
      "2020-12-09T18:34:49.242+0000\t[###############.........] dblp.articles\t755MB/1.13GB (65.1%)\n",
      "2020-12-09T18:34:52.243+0000\t[################........] dblp.articles\t780MB/1.13GB (67.3%)\n",
      "2020-12-09T18:34:55.249+0000\t[################........] dblp.articles\t805MB/1.13GB (69.4%)\n",
      "2020-12-09T18:34:58.242+0000\t[#################.......] dblp.articles\t829MB/1.13GB (71.5%)\n",
      "2020-12-09T18:35:01.242+0000\t[#################.......] dblp.articles\t853MB/1.13GB (73.5%)\n",
      "2020-12-09T18:35:04.242+0000\t[##################......] dblp.articles\t876MB/1.13GB (75.5%)\n",
      "2020-12-09T18:35:07.242+0000\t[##################......] dblp.articles\t898MB/1.13GB (77.5%)\n",
      "2020-12-09T18:35:10.242+0000\t[###################.....] dblp.articles\t922MB/1.13GB (79.6%)\n",
      "2020-12-09T18:35:13.242+0000\t[###################.....] dblp.articles\t946MB/1.13GB (81.7%)\n",
      "2020-12-09T18:35:16.243+0000\t[####################....] dblp.articles\t970MB/1.13GB (83.7%)\n",
      "2020-12-09T18:35:19.244+0000\t[####################....] dblp.articles\t994MB/1.13GB (85.7%)\n",
      "2020-12-09T18:35:22.242+0000\t[#####################...] dblp.articles\t1018MB/1.13GB (87.8%)\n",
      "2020-12-09T18:35:25.244+0000\t[#####################...] dblp.articles\t1.02GB/1.13GB (89.9%)\n",
      "2020-12-09T18:35:28.246+0000\t[######################..] dblp.articles\t1.04GB/1.13GB (92.0%)\n",
      "2020-12-09T18:35:31.247+0000\t[######################..] dblp.articles\t1.06GB/1.13GB (94.0%)\n",
      "2020-12-09T18:35:34.243+0000\t[#######################.] dblp.articles\t1.09GB/1.13GB (96.0%)\n",
      "2020-12-09T18:35:37.242+0000\t[#######################.] dblp.articles\t1.11GB/1.13GB (97.9%)\n",
      "2020-12-09T18:35:40.242+0000\t[#######################.] dblp.articles\t1.13GB/1.13GB (99.7%)\n",
      "2020-12-09T18:35:40.723+0000\t[########################] dblp.articles\t1.13GB/1.13GB (100.0%)\n",
      "2020-12-09T18:35:40.723+0000\t955181 document(s) imported successfully. 0 document(s) failed to import.\n"
     ]
    }
   ],
   "source": [
    "%%bash\n",
    "#Mongoimport of the JSON data.\n",
    "mongoimport --db dblp --collection articles --file articles.json"
   ]
  },
  {
   "cell_type": "markdown",
   "metadata": {},
   "source": [
    " ## Context\n",
    "    \n",
    "Bibliometrics Ltd. has hired you, dear data scientist, to analyse the latest articles in Computer Science collected by the DBLP (https://dblp.uni-trier.de/) open bibliographic service and further processed by the AMiner team (https://www.aminer.cn/citation). You have been provided with the articles from 2017 and 2019 and an MS Teams chat window with \"The Management\", on which you will get the questions you need to answer. "
   ]
  },
  {
   "cell_type": "code",
   "execution_count": 1,
   "metadata": {
    "ExecuteTime": {
     "end_time": "2020-12-11T09:24:28.748795Z",
     "start_time": "2020-12-11T09:24:27.580942Z"
    }
   },
   "outputs": [],
   "source": [
    "#import section\n",
    "from networkx import Graph, connected_components, ego_graph\n",
    "from pymongo import MongoClient"
   ]
  },
  {
   "cell_type": "markdown",
   "metadata": {},
   "source": [
    "### 1) \n",
    "\n",
    "Before the first question pops in the chat window, you better off set up everything to provide answers.\n",
    "\n",
    "Task:\n",
    "\n",
    "Off the Jupyter notebook, create a 'dblp' database and load the articles dataset into a collection named 'articles'.\n",
    "\n",
    "Write a function that given the name of a database and the name of a collection returns a pymongo collection object of the collection using the user you just created. Use this function to create a pymongo collection object of the 'articles' collection.\n",
    "\n",
    "\n",
    "[5 points]"
   ]
  },
  {
   "cell_type": "code",
   "execution_count": 2,
   "metadata": {
    "ExecuteTime": {
     "end_time": "2020-12-11T09:24:30.902101Z",
     "start_time": "2020-12-11T09:24:30.897931Z"
    },
    "nbgrader": {
     "grade": false,
     "grade_id": "get_collection",
     "locked": false,
     "schema_version": 1,
     "solution": true
    }
   },
   "outputs": [],
   "source": [
    "def get_collection(dbname, collection_name):\n",
    "    \"\"\"\n",
    "    Connects to the server, and returns a collection object\n",
    "    of the `dbname` collection in the `dblp` database\n",
    "    \"\"\"\n",
    "    connection = MongoClient(\"localhost\")\n",
    "    return connection[dbname][collection_name]"
   ]
  },
  {
   "cell_type": "code",
   "execution_count": 3,
   "metadata": {
    "ExecuteTime": {
     "end_time": "2020-12-11T09:24:34.404262Z",
     "start_time": "2020-12-11T09:24:34.375770Z"
    }
   },
   "outputs": [],
   "source": [
    "# the collection on which you will work on\n",
    "articles = get_collection('dblp','articles')\n",
    "authors = get_collection('dblp','authors')"
   ]
  },
  {
   "cell_type": "code",
   "execution_count": 11,
   "metadata": {
    "ExecuteTime": {
     "end_time": "2020-12-10T23:24:28.765256Z",
     "start_time": "2020-12-10T23:24:25.900923Z"
    }
   },
   "outputs": [
    {
     "data": {
      "text/plain": [
       "955181"
      ]
     },
     "execution_count": 11,
     "metadata": {},
     "output_type": "execute_result"
    }
   ],
   "source": [
    "articles.create_index([(\"references\", 1), (\"page_start\", 1), (\"page_end\", 1)])\n",
    "articles.count_documents({})"
   ]
  },
  {
   "cell_type": "markdown",
   "metadata": {},
   "source": [
    "### 1) \n",
    "\n",
    "The Management has logged in... they want to know how many articles of each type according to the 'doc_type' property are in the dataset. However, being the competent data scientist you are, you know that you always need to verify your data before start spitting out charts...\n",
    "\n",
    "### Task:\n",
    "\n",
    "Write a function that returns the number of articles missing the 'doc_type' property or having it equal to the empty string (\"\") \n",
    "\n",
    "[5 points] \n",
    "\n"
   ]
  },
  {
   "cell_type": "code",
   "execution_count": 12,
   "metadata": {
    "ExecuteTime": {
     "end_time": "2020-12-10T23:24:38.956489Z",
     "start_time": "2020-12-10T23:24:38.953002Z"
    },
    "nbgrader": {
     "grade": false,
     "grade_id": "get_bcced_people",
     "locked": false,
     "schema_version": 1,
     "solution": true
    }
   },
   "outputs": [],
   "source": [
    "def count_missing_doc_types(articles):\n",
    "    \"\"\"\n",
    "    :param articles A PyMongo collection of articles\n",
    "    :return: int: Number or articles without a a 'doc_type' property or having\n",
    "    it equal to the empty string ('')\n",
    "    \"\"\"\n",
    "    return articles.count_documents(\n",
    "        {\"$or\": [{\"doc_type\": {\"$exists\": False}}, {\"doc_type\": \"\"}]}\n",
    "    )"
   ]
  },
  {
   "cell_type": "code",
   "execution_count": 13,
   "metadata": {
    "ExecuteTime": {
     "end_time": "2020-12-10T23:24:42.290269Z",
     "start_time": "2020-12-10T23:24:40.085421Z"
    }
   },
   "outputs": [
    {
     "name": "stdout",
     "output_type": "stream",
     "text": [
      "0\n"
     ]
    }
   ],
   "source": [
    "print(count_missing_doc_types(articles))"
   ]
  },
  {
   "cell_type": "markdown",
   "metadata": {},
   "source": [
    "### 2) \n",
    "\n",
    "You inform The Management of how many articles are missing the doc_type property or have it empty. They would like to fix as many as possible before moving forward. They may be able to infer the missing types based on the article publisher, so they ask: what are the publishers of the articles that are missing the doc_type property?\n",
    "\n",
    "### Task:\n",
    "\n",
    "Write a function that returns the set of publishers of articles that are missing the doc_type property or have it equal to the empty string. \n",
    "\n",
    "[5 points]"
   ]
  },
  {
   "cell_type": "code",
   "execution_count": 14,
   "metadata": {
    "ExecuteTime": {
     "end_time": "2020-12-10T23:24:46.619683Z",
     "start_time": "2020-12-10T23:24:46.615977Z"
    }
   },
   "outputs": [],
   "source": [
    "def get_publishers_of_articles_missing_type(articles):\n",
    "    \"\"\"\n",
    "    :param articles PyMongo collection of articles\n",
    "    :return: Set: set of publishers of articles that are missing the doc_type\n",
    "    property, defined as not having the field at all, or having it equal to the\n",
    "    empty string.\n",
    "    \"\"\"\n",
    "    return articles.distinct(\n",
    "        \"publisher\", {\n",
    "            \"$or\": [{\"doc_type\": {\"$exists\": False}}, {\"doc_type\": \"\"}]\n",
    "        }\n",
    "    )"
   ]
  },
  {
   "cell_type": "code",
   "execution_count": 15,
   "metadata": {
    "ExecuteTime": {
     "end_time": "2020-12-10T23:24:49.132449Z",
     "start_time": "2020-12-10T23:24:47.473515Z"
    }
   },
   "outputs": [
    {
     "name": "stdout",
     "output_type": "stream",
     "text": [
      "0\n"
     ]
    }
   ],
   "source": [
    "print(len(get_publishers_of_articles_missing_type(articles)))"
   ]
  },
  {
   "cell_type": "markdown",
   "metadata": {},
   "source": [
    "### 3)\n",
    "\n",
    "The Management analysed the set you provided in the previous task and decided that:\n",
    "\n",
    " 1) Articles missing doc_type  with publisher == 'Springer, Cham' should have 'doc_type' == 'Book'\n",
    " \n",
    " 2) Articles missing doc_type with publisher  == 'RFC Editor' should have 'doc_type' == 'RFC'\n",
    " \n",
    " 3) The remainder of articles missing doc_type should have 'doc_type' == 'N/A'\n",
    " \n",
    "Task:\n",
    "\n",
    "Write a function that updates the article collection according to The Management's decision.\n",
    "\n",
    "[5 points]"
   ]
  },
  {
   "cell_type": "code",
   "execution_count": 16,
   "metadata": {
    "ExecuteTime": {
     "end_time": "2020-12-10T23:24:53.345316Z",
     "start_time": "2020-12-10T23:24:53.335274Z"
    },
    "scrolled": true
   },
   "outputs": [],
   "source": [
    "# The goal of this one is to make them update. Part of the data cleaning process.\n",
    "# Full mark should have one single pass update many. I think there are enough Springer, Cham elements \n",
    "#to notice when they are doing something wrong.\n",
    "\n",
    "def update_doc_types(articles):\n",
    "    \"\"\"\n",
    "    :param articles: PyMongo collection of articles\n",
    "    :return: PyMongo UpdateResult object\n",
    "    \"\"\"\n",
    "    bulk_operation = articles.initialize_unordered_bulk_op()\n",
    "\n",
    "    bulk_operation.find(\n",
    "        {\n",
    "            \"publisher\": \"Springer, Cham\",\n",
    "            \"$or\": [{\"doc_type\": {\"$exists\": False}}, {\"doc_type\": \"\"}],\n",
    "        }\n",
    "    ).update({\"$set\": {\"doc_type\": \"Book\"}})\n",
    "\n",
    "    bulk_operation.find(\n",
    "        {\n",
    "            \"publisher\": \"RFC Editor\",\n",
    "            \"$or\": [{\"doc_type\": {\"$exists\": False}}, {\"doc_type\": \"\"}],\n",
    "        }\n",
    "    ).update({\"$set\": {\"doc_type\": \"RFC\"}})\n",
    "\n",
    "    bulk_operation.find(\n",
    "        {\"$or\": [{\"doc_type\": {\"$exists\": False}}, {\"doc_type\": \"\"}]}\n",
    "    ).update({\"$set\": {\"doc_type\": \"N/A\"}})\n",
    "\n",
    "    return bulk_operation.execute()"
   ]
  },
  {
   "cell_type": "code",
   "execution_count": 17,
   "metadata": {
    "ExecuteTime": {
     "end_time": "2020-12-10T23:24:59.620588Z",
     "start_time": "2020-12-10T23:24:55.252794Z"
    }
   },
   "outputs": [
    {
     "name": "stderr",
     "output_type": "stream",
     "text": [
      "<ipython-input-16-cac4d47c087a>:10: DeprecationWarning: initialize_unordered_bulk_op is deprecated\n",
      "  bulk_operation = articles.initialize_unordered_bulk_op()\n"
     ]
    },
    {
     "name": "stdout",
     "output_type": "stream",
     "text": [
      "{'writeErrors': [], 'writeConcernErrors': [], 'nInserted': 0, 'nUpserted': 0, 'nMatched': 0, 'nModified': 0, 'nRemoved': 0, 'upserted': []}\n"
     ]
    }
   ],
   "source": [
    "print(update_doc_types(articles))"
   ]
  },
  {
   "cell_type": "markdown",
   "metadata": {},
   "source": [
    "### 4)\n",
    "\n",
    "You are finally ready to answer the original question: What is the distribution of document types in the dataset?\n",
    "\n",
    "Task:\n",
    "\n",
    "Write a function that returns a dictionary with doc_types as keys and the number of articles of each type as values.\n",
    "\n",
    "e.g:\n",
    "\n",
    "{'Conference' : 4566 , 'N/A' : 7992 ...}\n",
    "\n",
    "\n",
    "\n",
    "[5 points]\n"
   ]
  },
  {
   "cell_type": "code",
   "execution_count": 18,
   "metadata": {
    "ExecuteTime": {
     "end_time": "2020-12-10T23:25:06.453265Z",
     "start_time": "2020-12-10T23:25:06.446298Z"
    }
   },
   "outputs": [],
   "source": [
    "def get_types_distribution(articles):\n",
    "    \"\"\"\n",
    "    :param articles: PyMongo collection of articles\n",
    "    :return: Dictionary with article types as keys, and number of articles of\n",
    "    type as value\n",
    "    \"\"\"\n",
    "    cursor = articles.aggregate(\n",
    "        [{\"$group\": {\"_id\": \"$doc_type\", \"count\": {\"$sum\": 1}}}]\n",
    "    )\n",
    "\n",
    "    result = {}\n",
    "    for rec in cursor:\n",
    "        result[rec[\"_id\"]] = rec[\"count\"]\n",
    "\n",
    "    return result"
   ]
  },
  {
   "cell_type": "code",
   "execution_count": 19,
   "metadata": {
    "ExecuteTime": {
     "end_time": "2020-12-10T23:25:10.447167Z",
     "start_time": "2020-12-10T23:25:08.760965Z"
    }
   },
   "outputs": [
    {
     "name": "stdout",
     "output_type": "stream",
     "text": [
      "{'Patent': 112, 'RFC': 289, 'N/A': 74167, 'Book': 17998, 'Dataset': 3, 'Journal': 385450, 'BookChapter': 103, 'Repository': 87683, 'Conference': 389376}\n"
     ]
    }
   ],
   "source": [
    "print(get_types_distribution(articles))"
   ]
  },
  {
   "cell_type": "markdown",
   "metadata": {},
   "source": [
    "###  5)\n",
    "\n",
    "Do longer articles (in number of pages) have more references?\n",
    "\n",
    "Task:\n",
    "\n",
    "Return an histogram dictionary with the following specification:\n",
    "\n",
    "{\n",
    "\"1-5\" : Average references of articles between 1 and 5 pages inclusive\n",
    "\n",
    "\"6-10\" : Average references of articles between 6 and 10 pages inclusive\n",
    "\n",
    "\"11-15\" : Average references of articles between 11 and 15 pages inclusive\n",
    "\n",
    "\"16-20\" : Average references of articles between 16 and 20 pages inclusive\n",
    "\n",
    "\"21-25\" : Average references of articles between 21 and 25 pages inclusive\n",
    "\n",
    "\"25-30\" : Average references of articles between 25 and 30 pages inclusive\n",
    "\n",
    "\">30\" : Average references of articles with more than 30 pages\n",
    "}\n",
    "\n",
    "A fellow data scientist of your team has found that some articles have no 'references' field, while others have unusually large page numbers. The Management decides that for this task you should\n",
    "\n",
    "* Ignore articles that are missing the 'references' field\n",
    "* Ignore articles with page numbers greater than 6 digits\n",
    "* Ignore articles with page numbers that cannot be parsed to integers (e.g. 900467-12)\n",
    "\n",
    "\n",
    "\n",
    "You may use pandas to help you with statistical calculations, but do consider the efficiency of your solution.\n",
    "\n",
    "\n",
    "Clarifications:\n",
    "\n",
    "* Articles that start and end at the same page have 1 page, not zero!\n",
    "\n",
    "\n",
    "[8 points]\n"
   ]
  },
  {
   "cell_type": "code",
   "execution_count": 20,
   "metadata": {
    "ExecuteTime": {
     "end_time": "2020-12-10T23:26:44.968674Z",
     "start_time": "2020-12-10T23:26:44.952741Z"
    },
    "nbgrader": {
     "grade": false,
     "grade_id": "get_percentage_sent_on_weekend",
     "locked": false,
     "schema_version": 1,
     "solution": true
    },
    "scrolled": false
   },
   "outputs": [],
   "source": [
    "def length_vs_references(articles):\n",
    "    \"\"\"\n",
    "    :param collection A PyMongo collection object\n",
    "    :return Histogram as a dictionary in the form described above\n",
    "    \"\"\"\n",
    "\n",
    "    match_1_stage = {\n",
    "        \"$match\": {\n",
    "            \"references\": {\"$exists\": True, \"$ne\": []},\n",
    "            \"page_start\": {\"$exists\": True, \"$ne\": \"\"},\n",
    "            \"page_end\": {\"$exists\": True, \"$ne\": \"\"},\n",
    "        }\n",
    "    }\n",
    "\n",
    "    page_conversion_stage = {\n",
    "        \"$addFields\": {\n",
    "            \"convertedPageStart\": {\n",
    "                \"$convert\": {\n",
    "                    \"input\": \"$page_start\",\n",
    "                    \"to\": \"long\",\n",
    "                    \"onError\": -1,\n",
    "                    \"onNull\": -1,\n",
    "                }\n",
    "            },\n",
    "            \"convertedPageEnd\": {\n",
    "                \"$convert\": {\n",
    "                    \"input\": \"$page_end\",\n",
    "                    \"to\": \"long\",\n",
    "                    \"onError\": -1,\n",
    "                    \"onNull\": -1,\n",
    "                }\n",
    "            },\n",
    "            \"reference_size\": {\"$size\": \"$references\"},\n",
    "        }\n",
    "    }\n",
    "\n",
    "    match_2_stage = {\n",
    "        \"$match\": {\n",
    "            \"$and\": [\n",
    "                {\"convertedPageStart\": {\"$ne\": -1}},\n",
    "                {\"convertedPageEnd\": {\"$ne\": -1}},\n",
    "            ]\n",
    "        }\n",
    "    }\n",
    "\n",
    "    project_stage = {\n",
    "        \"$project\": {\n",
    "            \"convertedPageStart\": 1,\n",
    "            \"convertedPageEnd\": 1,\n",
    "            \"references\": 1,\n",
    "            \"no_of_pages\": {\n",
    "                \"$add\": [{\n",
    "                    \"$subtract\": [\"$convertedPageEnd\", \"$convertedPageStart\"]\n",
    "                }, 1]\n",
    "            },\n",
    "        }\n",
    "    }\n",
    "\n",
    "    match_3_stage = {\n",
    "        \"$match\": {\n",
    "            \"$and\": [\n",
    "                {\"no_of_pages\": {\"$lt\": 100000}},\n",
    "                {\"no_of_pages\": {\"$gte\": 0}},\n",
    "            ]\n",
    "        }\n",
    "    }\n",
    "\n",
    "    group_stage = {\n",
    "        \"$bucket\": {\n",
    "            \"groupBy\": \"$no_of_pages\",\n",
    "            \"boundaries\": [1, 6, 11, 16, 21, 26, 31],\n",
    "            \"default\": 31,\n",
    "            \"output\": {\"Avg references\": {\"$avg\": {\"$size\": \"$references\"}}},\n",
    "        }\n",
    "    }\n",
    "    res_set = articles.aggregate(\n",
    "        [\n",
    "            match_1_stage,\n",
    "            page_conversion_stage,\n",
    "            match_2_stage,\n",
    "            project_stage,\n",
    "            match_3_stage,\n",
    "            group_stage,\n",
    "        ]\n",
    "    )\n",
    "    res_set = list(res_set)\n",
    "\n",
    "    hist_dict = {}\n",
    "\n",
    "    for res in res_set[0:-1]:\n",
    "        start = res[\"_id\"]\n",
    "        end = start + 5 - 1\n",
    "        hist_dict[\"{}-{}\".format(start, end)] = res[\"Avg references\"]\n",
    "\n",
    "    hist_dict[\">30\"] = res_set[-1][\"Avg references\"]\n",
    "\n",
    "    return hist_dict"
   ]
  },
  {
   "cell_type": "code",
   "execution_count": 21,
   "metadata": {
    "ExecuteTime": {
     "end_time": "2020-12-10T23:27:22.900576Z",
     "start_time": "2020-12-10T23:26:46.807246Z"
    }
   },
   "outputs": [
    {
     "name": "stdout",
     "output_type": "stream",
     "text": [
      "{'1-5': 7.80959911361805, '6-10': 12.943604728505438, '11-15': 19.26696415044967, '16-20': 21.93083583252851, '21-25': 23.84250175192712, '26-30': 26.984712799638174, '>30': 32.62567744346851}\n"
     ]
    }
   ],
   "source": [
    "print(length_vs_references(articles))"
   ]
  },
  {
   "cell_type": "markdown",
   "metadata": {},
   "source": [
    "###  6)\n",
    "\n",
    "Being the competent data scientist you are, you remember that before sending the results to The Management you  should be verify that they are meaningful and not affected by data quality. Can you trust these averages are not affected by outliers?\n",
    "\n",
    "Task:\n",
    "\n",
    "Extend or modify the previous function to return for each article length range the following dictionary:\n",
    "\n",
    "{\"1-5\" : {'outliers'  \n",
    "             {\n",
    "          \n",
    "            id: article_id, \n",
    "          \n",
    "            num_citations: number of citations, \n",
    "          \n",
    "             z-score: z-score\n",
    "          }, \n",
    " \"6-10\" : {'outliers'  \n",
    "             {\n",
    "          \n",
    "            id: article_id, \n",
    "          \n",
    "            num_citations: number of citations, \n",
    "          \n",
    "             z-score: z-score\n",
    "          } ,\n",
    "   .... and so on.....\n",
    " }\n",
    "\n",
    "for articles with a number of citations with a z-score  greater or equal than 3 ((https://www.statisticshowto.com/probability-and-statistics/z-score/))\n",
    "\n",
    "Note that we say \"for each article length range\", therefore, z-score needs to be computed using the mean and stdev of each sample of the provided article lengths.\n",
    "\n",
    "You may use pandas to help you with statistical calculations, but do consider the efficiency of your solution.\n",
    "\n",
    "  \n",
    "\n",
    "\n",
    "[8 points]\n"
   ]
  },
  {
   "cell_type": "code",
   "execution_count": 154,
   "metadata": {
    "ExecuteTime": {
     "end_time": "2020-12-11T11:26:44.404452Z",
     "start_time": "2020-12-11T11:26:44.382986Z"
    }
   },
   "outputs": [],
   "source": [
    "def get_reference_outliers(articles):\n",
    "    \"\"\"\n",
    "    :param articles A PyMongo collection object\n",
    "    :return Dictionary of the form described above\n",
    "    \"\"\"\n",
    "    \n",
    "    match_1_stage = {\"$match\":\n",
    "               {\"$and\":\n",
    "                [\n",
    "                    {\"page_start\":{\"$ne\":\"\"}},\n",
    "                    {\"page_end\":{\"$ne\":\"\"}},\n",
    "                    {\"page_start\":{ \"$not\":{\"$regex\":\"-\"}}},\n",
    "                    {\"page_end\":{ \"$not\":{\"$regex\":\"-\"}}},\n",
    "                    {\"page_start\":{\"$exists\": True},\"$expr\":{\"$lte\":[{\"$strLenCP\":\"$page_start\"},6]}},\n",
    "                    {\"page_end\":{\"$exists\": True}},\n",
    "                    {\"references\":{\"$exists\": True, \"$ne\": []}}\n",
    "                ]\n",
    "               }\n",
    "              }\n",
    "    \n",
    "    page_conversion_stage = {\n",
    "        \"$addFields\": {\n",
    "            \"convertedPageStart\": {\n",
    "                \"$convert\": {\n",
    "                    \"input\": \"$page_start\",\n",
    "                    \"to\": \"long\",\n",
    "                    \"onError\": -1,\n",
    "                    \"onNull\": -1,\n",
    "                }\n",
    "            },\n",
    "            \"convertedPageEnd\": {\n",
    "                \"$convert\": {\n",
    "                    \"input\": \"$page_end\",\n",
    "                    \"to\": \"long\",\n",
    "                    \"onError\": -1,\n",
    "                    \"onNull\": -1,\n",
    "                }\n",
    "            },\n",
    "            \"reference_size\": {\"$size\": \"$references\"},\n",
    "        }\n",
    "    }\n",
    "\n",
    "    match_2_stage = {\n",
    "        \"$match\": {\n",
    "            \"$and\": [\n",
    "                {\"convertedPageStart\": {\"$ne\": -1}},\n",
    "                {\"convertedPageEnd\": {\"$ne\": -1}},\n",
    "            ]\n",
    "        }\n",
    "    }\n",
    "    \n",
    "    project_stage = {\n",
    "        \"$project\": {\n",
    "            \"convertedPageStart\": 1,\n",
    "            \"convertedPageEnd\": 1,\n",
    "            \"reference_size\":1,\n",
    "            \"id\": 1,\n",
    "            \"no_of_pages\": {\n",
    "                \"$add\": [{\n",
    "                    \"$subtract\": [\"$convertedPageEnd\", \"$convertedPageStart\"]\n",
    "                }, 1]\n",
    "            },\n",
    "        }\n",
    "    }\n",
    "    \n",
    "    bucket_stage = {\n",
    "        \"$bucket\":{\n",
    "            \"groupBy\":\"$no_of_pages\",\n",
    "            \"boundaries\":[1,6,11,16,21,26,31],\n",
    "            \"default\" : \">30\",\n",
    "            \"output\":{\n",
    "                \"no_of_articles\":{\"$sum\":1}, \n",
    "                \"average_references\":{\"$avg\":\"$reference_size\"},\n",
    "                \"standarddev\":{\"$stdDevPop\":\"$reference_size\"},\n",
    "                \"outlier\": { \"$push\": {\"id\":\"$id\", \"num_citations\":\"$reference_size\", \"no_of_pages\":\"$no_of_pages\"}}\n",
    "            }\n",
    "        }\n",
    "    };\n",
    "    \n",
    "    unwind_stage = {\"$unwind\": \"$outlier\"}\n",
    "    \n",
    "    z_score_stage_1 = {\"$addFields\": {\n",
    "        \"outlier.z-score\": {\n",
    "            \"$subtract\": [\"$outlier.num_citations\", \"$average_references\"]},\n",
    "    }}\n",
    "    \n",
    "    z_score_stage_2 = {\"$set\": {\"outlier.z-score\": {\"$divide\": [\"$outlier.z-score\", \"$standarddev\"]}}}\n",
    "    \n",
    "    z_score_filter_stage = {\"$match\": {\"outlier.z-score\": {\"$gte\": 3}}}\n",
    "    \n",
    "    project_z_score_stage = {\"$project\": {'_id': 0, \"outlier\": 1, \"z-score\": 1}}\n",
    "    \n",
    "    bucket_final_stage = {\"$bucket\": {\n",
    "            \"groupBy\": \"$outlier.no_of_pages\",\n",
    "            \"boundaries\": [1, 6, 11, 16, 21, 26, 31],\n",
    "            \"default\": \">30\",\n",
    "            \"output\": {\"outlier\": {\"$push\": \"$outlier\"}\n",
    "\n",
    "                       }\n",
    "    }}\n",
    "    \n",
    "    res_set = articles.aggregate(\n",
    "        [\n",
    "            match_1_stage,\n",
    "            page_conversion_stage,\n",
    "            match_2_stage,\n",
    "            project_stage,\n",
    "            bucket_stage,\n",
    "            unwind_stage,\n",
    "            z_score_stage_1,\n",
    "            z_score_stage_2,\n",
    "            z_score_filter_stage,\n",
    "            project_z_score_stage,\n",
    "            bucket_final_stage\n",
    "        ],\n",
    "        allowDiskUse=True\n",
    "    )\n",
    "    \n",
    "    return_dict = {}\n",
    "    \n",
    "    l = []\n",
    "    \n",
    "    for res in res_set:\n",
    "        l.append(res)\n",
    "    \n",
    "    for res in l[0:-1]:\n",
    "        \n",
    "        start = int(res['_id'])\n",
    "        end = start + 4\n",
    "        key = \"{}-{}\".format(str(start), str(end))\n",
    "        \n",
    "        return_dict[key] = {'outliers':res['outlier']}\n",
    "    \n",
    "    return_dict[l[-1]['_id']] = {'outliers':l[-1]['outlier']}\n",
    "    \n",
    "    return return_dict"
   ]
  },
  {
   "cell_type": "code",
   "execution_count": 155,
   "metadata": {
    "ExecuteTime": {
     "end_time": "2020-12-11T11:27:29.264137Z",
     "start_time": "2020-12-11T11:26:45.890286Z"
    }
   },
   "outputs": [],
   "source": [
    "res_set = get_reference_outliers(articles)"
   ]
  },
  {
   "cell_type": "code",
   "execution_count": 158,
   "metadata": {
    "ExecuteTime": {
     "end_time": "2020-12-11T11:27:47.504140Z",
     "start_time": "2020-12-11T11:27:47.454446Z"
    }
   },
   "outputs": [
    {
     "data": {
      "text/plain": [
       "{'outliers': [{'id': 2793622148,\n",
       "   'num_citations': 171,\n",
       "   'no_of_pages': 33,\n",
       "   'z-score': 3.929057830064616},\n",
       "  {'id': 2973419442,\n",
       "   'num_citations': 347,\n",
       "   'no_of_pages': 40,\n",
       "   'z-score': 8.92638488863329},\n",
       "  {'id': 2899090608,\n",
       "   'num_citations': 242,\n",
       "   'no_of_pages': 36,\n",
       "   'z-score': 5.9450249957372066},\n",
       "  {'id': 2604799547,\n",
       "   'num_citations': 397,\n",
       "   'no_of_pages': 106,\n",
       "   'z-score': 10.346080075726663},\n",
       "  {'id': 2758508599,\n",
       "   'num_citations': 177,\n",
       "   'no_of_pages': 84,\n",
       "   'z-score': 4.099421252515821},\n",
       "  {'id': 2883445328,\n",
       "   'num_citations': 300,\n",
       "   'no_of_pages': 78,\n",
       "   'z-score': 7.591871412765519},\n",
       "  {'id': 2795981059,\n",
       "   'num_citations': 173,\n",
       "   'no_of_pages': 57,\n",
       "   'z-score': 3.985845637548351},\n",
       "  {'id': 2535481428,\n",
       "   'num_citations': 169,\n",
       "   'no_of_pages': 41,\n",
       "   'z-score': 3.872270022580881},\n",
       "  {'id': 2803704088,\n",
       "   'num_citations': 158,\n",
       "   'no_of_pages': 42,\n",
       "   'z-score': 3.559937081420339},\n",
       "  {'id': 2970434686,\n",
       "   'num_citations': 388,\n",
       "   'no_of_pages': 43,\n",
       "   'z-score': 10.090534942049857},\n",
       "  {'id': 2945100954,\n",
       "   'num_citations': 217,\n",
       "   'no_of_pages': 37,\n",
       "   'z-score': 5.235177402190519},\n",
       "  {'id': 2568817620,\n",
       "   'num_citations': 211,\n",
       "   'no_of_pages': 48,\n",
       "   'z-score': 5.064813979739315},\n",
       "  {'id': 2111481694,\n",
       "   'num_citations': 203,\n",
       "   'no_of_pages': 35,\n",
       "   'z-score': 4.837662749804375},\n",
       "  {'id': 2943528199,\n",
       "   'num_citations': 309,\n",
       "   'no_of_pages': 31,\n",
       "   'z-score': 7.847416546442326},\n",
       "  {'id': 2589197679,\n",
       "   'num_citations': 151,\n",
       "   'no_of_pages': 52,\n",
       "   'z-score': 3.361179755227267},\n",
       "  {'id': 2739324783,\n",
       "   'num_citations': 157,\n",
       "   'no_of_pages': 39,\n",
       "   'z-score': 3.5315431776784716},\n",
       "  {'id': 2889547293,\n",
       "   'num_citations': 269,\n",
       "   'no_of_pages': 33,\n",
       "   'z-score': 6.711660396767628},\n",
       "  {'id': 2898508426,\n",
       "   'num_citations': 141,\n",
       "   'no_of_pages': 53,\n",
       "   'z-score': 3.0772407178085923},\n",
       "  {'id': 2411925053,\n",
       "   'num_citations': 298,\n",
       "   'no_of_pages': 43,\n",
       "   'z-score': 7.535083605281784},\n",
       "  {'id': 2997656450,\n",
       "   'num_citations': 282,\n",
       "   'no_of_pages': 43,\n",
       "   'z-score': 7.080781145411905},\n",
       "  {'id': 2944362491,\n",
       "   'num_citations': 391,\n",
       "   'no_of_pages': 36,\n",
       "   'z-score': 10.175716653275458},\n",
       "  {'id': 2293310672,\n",
       "   'num_citations': 141,\n",
       "   'no_of_pages': 34,\n",
       "   'z-score': 3.0772407178085923},\n",
       "  {'id': 2664496537,\n",
       "   'num_citations': 160,\n",
       "   'no_of_pages': 56,\n",
       "   'z-score': 3.616724888904074},\n",
       "  {'id': 2317879529,\n",
       "   'num_citations': 150,\n",
       "   'no_of_pages': 66,\n",
       "   'z-score': 3.3327858514853994},\n",
       "  {'id': 2612326031,\n",
       "   'num_citations': 144,\n",
       "   'no_of_pages': 43,\n",
       "   'z-score': 3.1624224290341947},\n",
       "  {'id': 2951402759,\n",
       "   'num_citations': 151,\n",
       "   'no_of_pages': 46,\n",
       "   'z-score': 3.361179755227267},\n",
       "  {'id': 2979359324,\n",
       "   'num_citations': 147,\n",
       "   'no_of_pages': 36,\n",
       "   'z-score': 3.247604140259797},\n",
       "  {'id': 2562910494,\n",
       "   'num_citations': 302,\n",
       "   'no_of_pages': 64,\n",
       "   'z-score': 7.648659220249254},\n",
       "  {'id': 2287429606,\n",
       "   'num_citations': 170,\n",
       "   'no_of_pages': 76,\n",
       "   'z-score': 3.9006639263227485},\n",
       "  {'id': 2807686848,\n",
       "   'num_citations': 172,\n",
       "   'no_of_pages': 32,\n",
       "   'z-score': 3.9574517338064834},\n",
       "  {'id': 2529696250,\n",
       "   'num_citations': 460,\n",
       "   'no_of_pages': 39,\n",
       "   'z-score': 12.134896011464313},\n",
       "  {'id': 2967277443,\n",
       "   'num_citations': 271,\n",
       "   'no_of_pages': 57,\n",
       "   'z-score': 6.768448204251363},\n",
       "  {'id': 2789845225,\n",
       "   'num_citations': 154,\n",
       "   'no_of_pages': 124,\n",
       "   'z-score': 3.4463614664528692},\n",
       "  {'id': 2962883549,\n",
       "   'num_citations': 494,\n",
       "   'no_of_pages': 64,\n",
       "   'z-score': 13.100288738687807},\n",
       "  {'id': 2965909661,\n",
       "   'num_citations': 145,\n",
       "   'no_of_pages': 39,\n",
       "   'z-score': 3.190816332776062},\n",
       "  {'id': 2905081161,\n",
       "   'num_citations': 167,\n",
       "   'no_of_pages': 78,\n",
       "   'z-score': 3.815482215097146},\n",
       "  {'id': 2571807506,\n",
       "   'num_citations': 197,\n",
       "   'no_of_pages': 40,\n",
       "   'z-score': 4.66729932735317},\n",
       "  {'id': 2779594574,\n",
       "   'num_citations': 204,\n",
       "   'no_of_pages': 51,\n",
       "   'z-score': 4.866056653546242},\n",
       "  {'id': 2988916019,\n",
       "   'num_citations': 292,\n",
       "   'no_of_pages': 58,\n",
       "   'z-score': 7.364720182830579},\n",
       "  {'id': 2160613239,\n",
       "   'num_citations': 246,\n",
       "   'no_of_pages': 34,\n",
       "   'z-score': 6.058600610704676},\n",
       "  {'id': 2962686197,\n",
       "   'num_citations': 174,\n",
       "   'no_of_pages': 43,\n",
       "   'z-score': 4.014239541290219},\n",
       "  {'id': 2966699844,\n",
       "   'num_citations': 154,\n",
       "   'no_of_pages': 51,\n",
       "   'z-score': 3.4463614664528692},\n",
       "  {'id': 2891042661,\n",
       "   'num_citations': 171,\n",
       "   'no_of_pages': 41,\n",
       "   'z-score': 3.929057830064616},\n",
       "  {'id': 2910880405,\n",
       "   'num_citations': 553,\n",
       "   'no_of_pages': 52,\n",
       "   'z-score': 14.775529059457986},\n",
       "  {'id': 2763937804,\n",
       "   'num_citations': 143,\n",
       "   'no_of_pages': 40,\n",
       "   'z-score': 3.1340285252923272},\n",
       "  {'id': 2915905517,\n",
       "   'num_citations': 202,\n",
       "   'no_of_pages': 38,\n",
       "   'z-score': 4.8092688460625075},\n",
       "  {'id': 2784638391,\n",
       "   'num_citations': 241,\n",
       "   'no_of_pages': 64,\n",
       "   'z-score': 5.916631091995339},\n",
       "  {'id': 2778881107,\n",
       "   'num_citations': 252,\n",
       "   'no_of_pages': 39,\n",
       "   'z-score': 6.228964033155881},\n",
       "  {'id': 2929612105,\n",
       "   'num_citations': 151,\n",
       "   'no_of_pages': 34,\n",
       "   'z-score': 3.361179755227267},\n",
       "  {'id': 2769828017,\n",
       "   'num_citations': 246,\n",
       "   'no_of_pages': 40,\n",
       "   'z-score': 6.058600610704676},\n",
       "  {'id': 2885351117,\n",
       "   'num_citations': 152,\n",
       "   'no_of_pages': 31,\n",
       "   'z-score': 3.3895736589691343},\n",
       "  {'id': 2599413125,\n",
       "   'num_citations': 183,\n",
       "   'no_of_pages': 62,\n",
       "   'z-score': 4.269784674967026},\n",
       "  {'id': 2800788706,\n",
       "   'num_citations': 189,\n",
       "   'no_of_pages': 43,\n",
       "   'z-score': 4.440148097418231},\n",
       "  {'id': 2945788003,\n",
       "   'num_citations': 187,\n",
       "   'no_of_pages': 53,\n",
       "   'z-score': 4.383360289934496},\n",
       "  {'id': 2747826093,\n",
       "   'num_citations': 189,\n",
       "   'no_of_pages': 47,\n",
       "   'z-score': 4.440148097418231},\n",
       "  {'id': 2898256678,\n",
       "   'num_citations': 268,\n",
       "   'no_of_pages': 81,\n",
       "   'z-score': 6.68326649302576},\n",
       "  {'id': 2790860712,\n",
       "   'num_citations': 175,\n",
       "   'no_of_pages': 39,\n",
       "   'z-score': 4.042633445032086},\n",
       "  {'id': 2788163338,\n",
       "   'num_citations': 255,\n",
       "   'no_of_pages': 51,\n",
       "   'z-score': 6.3141457443814835},\n",
       "  {'id': 2963765477,\n",
       "   'num_citations': 211,\n",
       "   'no_of_pages': 40,\n",
       "   'z-score': 5.064813979739315},\n",
       "  {'id': 2335694744,\n",
       "   'num_citations': 202,\n",
       "   'no_of_pages': 35,\n",
       "   'z-score': 4.8092688460625075},\n",
       "  {'id': 2789747582,\n",
       "   'num_citations': 189,\n",
       "   'no_of_pages': 83,\n",
       "   'z-score': 4.440148097418231},\n",
       "  {'id': 2773213559,\n",
       "   'num_citations': 192,\n",
       "   'no_of_pages': 65,\n",
       "   'z-score': 4.525329808643833},\n",
       "  {'id': 2793017850,\n",
       "   'num_citations': 176,\n",
       "   'no_of_pages': 36,\n",
       "   'z-score': 4.071027348773954},\n",
       "  {'id': 2973204678,\n",
       "   'num_citations': 143,\n",
       "   'no_of_pages': 41,\n",
       "   'z-score': 3.1340285252923272},\n",
       "  {'id': 2890389408,\n",
       "   'num_citations': 260,\n",
       "   'no_of_pages': 58,\n",
       "   'z-score': 6.456115263090821},\n",
       "  {'id': 2888482389,\n",
       "   'num_citations': 223,\n",
       "   'no_of_pages': 76,\n",
       "   'z-score': 5.405540824641724},\n",
       "  {'id': 2898356110,\n",
       "   'num_citations': 168,\n",
       "   'no_of_pages': 37,\n",
       "   'z-score': 3.8438761188390136},\n",
       "  {'id': 2907463061,\n",
       "   'num_citations': 149,\n",
       "   'no_of_pages': 37,\n",
       "   'z-score': 3.304391947743532},\n",
       "  {'id': 2800308434,\n",
       "   'num_citations': 147,\n",
       "   'no_of_pages': 33,\n",
       "   'z-score': 3.247604140259797},\n",
       "  {'id': 2887297641,\n",
       "   'num_citations': 175,\n",
       "   'no_of_pages': 48,\n",
       "   'z-score': 4.042633445032086},\n",
       "  {'id': 2606842801,\n",
       "   'num_citations': 218,\n",
       "   'no_of_pages': 43,\n",
       "   'z-score': 5.263571305932387},\n",
       "  {'id': 2891211628,\n",
       "   'num_citations': 168,\n",
       "   'no_of_pages': 45,\n",
       "   'z-score': 3.8438761188390136},\n",
       "  {'id': 2610253209,\n",
       "   'num_citations': 144,\n",
       "   'no_of_pages': 41,\n",
       "   'z-score': 3.1624224290341947},\n",
       "  {'id': 2606995913,\n",
       "   'num_citations': 207,\n",
       "   'no_of_pages': 35,\n",
       "   'z-score': 4.951238364771845},\n",
       "  {'id': 2944016984,\n",
       "   'num_citations': 257,\n",
       "   'no_of_pages': 36,\n",
       "   'z-score': 6.370933551865218},\n",
       "  {'id': 2917342980,\n",
       "   'num_citations': 256,\n",
       "   'no_of_pages': 50,\n",
       "   'z-score': 6.342539648123351},\n",
       "  {'id': 2913472259,\n",
       "   'num_citations': 142,\n",
       "   'no_of_pages': 78,\n",
       "   'z-score': 3.1056346215504598},\n",
       "  {'id': 2731697462,\n",
       "   'num_citations': 169,\n",
       "   'no_of_pages': 32,\n",
       "   'z-score': 3.872270022580881},\n",
       "  {'id': 2963399478,\n",
       "   'num_citations': 139,\n",
       "   'no_of_pages': 111,\n",
       "   'z-score': 3.020452910324857},\n",
       "  {'id': 2761711448,\n",
       "   'num_citations': 151,\n",
       "   'no_of_pages': 32,\n",
       "   'z-score': 3.361179755227267},\n",
       "  {'id': 2736431578,\n",
       "   'num_citations': 156,\n",
       "   'no_of_pages': 60,\n",
       "   'z-score': 3.503149273936604},\n",
       "  {'id': 2746033960,\n",
       "   'num_citations': 145,\n",
       "   'no_of_pages': 51,\n",
       "   'z-score': 3.190816332776062},\n",
       "  {'id': 2606751384,\n",
       "   'num_citations': 176,\n",
       "   'no_of_pages': 37,\n",
       "   'z-score': 4.071027348773954},\n",
       "  {'id': 2910806988,\n",
       "   'num_citations': 167,\n",
       "   'no_of_pages': 34,\n",
       "   'z-score': 3.815482215097146},\n",
       "  {'id': 2981038142,\n",
       "   'num_citations': 275,\n",
       "   'no_of_pages': 48,\n",
       "   'z-score': 6.8820238192188325},\n",
       "  {'id': 1481397690,\n",
       "   'num_citations': 156,\n",
       "   'no_of_pages': 39,\n",
       "   'z-score': 3.503149273936604},\n",
       "  {'id': 2886507500,\n",
       "   'num_citations': 172,\n",
       "   'no_of_pages': 57,\n",
       "   'z-score': 3.9574517338064834},\n",
       "  {'id': 2592793882,\n",
       "   'num_citations': 233,\n",
       "   'no_of_pages': 33,\n",
       "   'z-score': 5.689479862060399},\n",
       "  {'id': 2792581684,\n",
       "   'num_citations': 148,\n",
       "   'no_of_pages': 36,\n",
       "   'z-score': 3.2759980440016645},\n",
       "  {'id': 2584343393,\n",
       "   'num_citations': 146,\n",
       "   'no_of_pages': 41,\n",
       "   'z-score': 3.2192102365179296},\n",
       "  {'id': 2783454406,\n",
       "   'num_citations': 159,\n",
       "   'no_of_pages': 32,\n",
       "   'z-score': 3.5883309851622065},\n",
       "  {'id': 2311778361,\n",
       "   'num_citations': 202,\n",
       "   'no_of_pages': 35,\n",
       "   'z-score': 4.8092688460625075},\n",
       "  {'id': 2738072326,\n",
       "   'num_citations': 198,\n",
       "   'no_of_pages': 37,\n",
       "   'z-score': 4.695693231095038},\n",
       "  {'id': 2789257051,\n",
       "   'num_citations': 139,\n",
       "   'no_of_pages': 35,\n",
       "   'z-score': 3.020452910324857},\n",
       "  {'id': 2297518571,\n",
       "   'num_citations': 157,\n",
       "   'no_of_pages': 33,\n",
       "   'z-score': 3.5315431776784716},\n",
       "  {'id': 2815307792,\n",
       "   'num_citations': 150,\n",
       "   'no_of_pages': 38,\n",
       "   'z-score': 3.3327858514853994},\n",
       "  {'id': 2951082691,\n",
       "   'num_citations': 167,\n",
       "   'no_of_pages': 40,\n",
       "   'z-score': 3.815482215097146},\n",
       "  {'id': 2751870871,\n",
       "   'num_citations': 152,\n",
       "   'no_of_page"
      ]
     },
     "execution_count": 158,
     "metadata": {},
     "output_type": "execute_result"
    },
    {
     "data": {
      "text/html": [
       "<b>limit_output extension: Maximum message size of 10000 exceeded with 24050 characters</b>"
      ]
     },
     "metadata": {},
     "output_type": "display_data"
    }
   ],
   "source": [
    "res_set['>30']"
   ]
  },
  {
   "cell_type": "markdown",
   "metadata": {},
   "source": [
    "### 7) \n",
    "\n",
    "What are the co-authors of an author? \n",
    "\n",
    "Task:\n",
    "\n",
    "Write a function that receives as parameter an author id and returns the id, names and affiliations (if present) of all co-authors.\n",
    "\n",
    "[8 points]\n",
    "\n",
    "Clarification:\n",
    "\n",
    "* Assume authors are uniquely identified by their ids.\n"
   ]
  },
  {
   "cell_type": "code",
   "execution_count": 25,
   "metadata": {
    "ExecuteTime": {
     "end_time": "2020-12-10T23:33:55.164942Z",
     "start_time": "2020-12-10T23:33:55.153647Z"
    }
   },
   "outputs": [],
   "source": [
    "def get_collaborators(articles, author_id):\n",
    "    \"\"\"\n",
    "    Input: articles: PyMongo collection of articles\n",
    "        author_id : id of author\n",
    "    Output: List of collaborator documents {id, [{name,affiliation}]}\n",
    "    \"\"\"\n",
    "    co_authors = []\n",
    "    collaborator_id_set = set()\n",
    "\n",
    "    documents = articles.find({\"authors.id\": author_id})\n",
    "\n",
    "    for document in documents:\n",
    "        article_authors = document[\"authors\"]\n",
    "        for author in article_authors:\n",
    "            collaborator_id_set.add(author[\"id\"])\n",
    "\n",
    "    collaborator_id_set.remove(author_id)\n",
    "\n",
    "    for collaborator_id in collaborator_id_set:\n",
    "\n",
    "        author_hash = set()\n",
    "\n",
    "        collaborator_dict = {}\n",
    "        collaborator_dict[\"id\"] = collaborator_id\n",
    "\n",
    "        names = []\n",
    "\n",
    "        documents = articles.find({\"authors.id\": collaborator_id},\n",
    "                                  {\"authors\": 1})\n",
    "\n",
    "        for document in documents:\n",
    "            author_list = document[\"authors\"]\n",
    "            for author in author_list:\n",
    "                if author[\"id\"] == collaborator_id:\n",
    "                    temp_dict = {}\n",
    "                    temp_dict[\"name\"] = author[\"name\"]\n",
    "                    if \"org\" in author:\n",
    "                        temp_dict[\"affiliation\"] = author[\"org\"]\n",
    "                    temp_hash = hash(frozenset(temp_dict.items()))\n",
    "                    if temp_hash not in author_hash:\n",
    "                        author_hash.add(temp_hash)\n",
    "                        names.append(temp_dict)\n",
    "\n",
    "        collaborator_dict[\"names\"] = names\n",
    "        co_authors.append(collaborator_dict)\n",
    "\n",
    "    return co_authors"
   ]
  },
  {
   "cell_type": "code",
   "execution_count": 26,
   "metadata": {
    "ExecuteTime": {
     "end_time": "2020-12-10T23:34:35.106151Z",
     "start_time": "2020-12-10T23:33:56.785763Z"
    }
   },
   "outputs": [],
   "source": [
    "l = get_collaborators(articles, 53423)"
   ]
  },
  {
   "cell_type": "code",
   "execution_count": 27,
   "metadata": {
    "ExecuteTime": {
     "end_time": "2020-12-10T23:34:35.123180Z",
     "start_time": "2020-12-10T23:34:35.108903Z"
    }
   },
   "outputs": [
    {
     "name": "stdout",
     "output_type": "stream",
     "text": [
      "{'id': 2122359715, 'names': [{'name': 'Will Rosenbaum'}, {'name': 'Will Rosenbaum', 'affiliation': 'Algorithms and Complexity, MPI for Informatics, Max Planck Society'}, {'name': 'Will Rosenbaum', 'affiliation': 'Tel‐Aviv University ,'}, {'name': 'Will Rosenbaum', 'affiliation': 'Max-Planck-Institute for Informatics, , Germany'}]}\n",
      "\n",
      "\n",
      "{'id': 2078633956, 'names': [{'name': 'Yishay Mansour', 'affiliation': 'Tel-Aviv University and Microsoft Research, Tel-Aviv , Israel'}, {'name': 'Yishay Mansour'}, {'name': 'Yishay Mansour', 'affiliation': 'Tel Aviv University and Microsoft Research#TAB#'}, {'name': 'Yishay Mansour', 'affiliation': 'Tel Aviv University Tel Aviv, Israel'}, {'name': 'Yishay Mansour', 'affiliation': 'Tel‐Aviv University ,'}, {'name': 'Yishay Mansour', 'affiliation': 'Tel-Aviv University & Google Research, Tel-Aviv, Israel'}, {'name': 'Yishay Mansour', 'affiliation': 'Google Inc.,#TAB#'}, {'name': 'Yishay Mansour', 'affiliation': 'Google and Tel Aviv University'}, {'name': 'Yishay Mansour', 'affiliation': 'Tel Aviv University, Israel and Google Research, Israel#TAB#'}, {'name': 'Yishay Mansour', 'affiliation': 'Google Research,'}, {'name': 'Yishay Mansour', 'affiliation': 'Tel Aviv University / Google'}]}\n",
      "\n",
      "\n",
      "{'id': 2154282918, 'names': [{'name': 'S. Matthew Weinberg', 'affiliation': 'Princeton University, Princeton, NJ,\\xa0USA'}, {'name': 'S. Matthew Weinberg'}, {'name': 'S. Matthew Weinberg', 'affiliation': 'Princeton, Princeton, NJ, USA#TAB#'}, {'name': 'S. Matthew Weinberg', 'affiliation': 'Princeton University, NJ, USA'}, {'name': 'S. Matthew Weinberg', 'affiliation': 'Department of Computer Science, Princeton University, United States'}, {'name': 'S. Matthew Weinberg', 'affiliation': 'Princeton University *'}, {'name': 'S. Matthew Weinberg', 'affiliation': 'Princeton University,USA'}, {'name': 'S. Matthew Weinberg', 'affiliation': 'Computer Science'}, {'name': 'Matt Weinberg', 'affiliation': 'Princeton University, Princeton, NJ,\\xa0USA'}, {'name': 'S. Matthew Weinberg', 'affiliation': 'Princeton university;'}]}\n",
      "\n",
      "\n",
      "{'id': 2112574952, 'names': [{'name': 'Noga Mordechai Alon', 'affiliation': 'SCHOOL OF MATHEMATICS, INSTITUTE FOR ADVANCED STUDY, PRINCETON, NJ,#TAB#'}, {'name': 'Noga Alon', 'affiliation': 'Microsoft Research, Herzliya, Israel 46725 and Tel Aviv University, Tel Aviv, Israel 69978#TAB#'}, {'name': 'Noga Alon', 'affiliation': 'Tel Aviv Univ, Israel'}, {'name': 'Noga Alon', 'affiliation': 'Schools of Mathematics and Computer Science, Tel-Aviv University, Tel-Aviv, Israel#TAB#'}, {'name': 'Noga Alon'}, {'name': 'Noga Alon', 'affiliation': 'Tel‐Aviv University ,'}, {'name': 'Noga Alon', 'affiliation': 'Sackler School of Mathematics and Blavatnik School of Computer Science, Tel Aviv University, Tel Aviv 6997801, Israel'}, {'name': 'Noga Mordechai Alon', 'affiliation': 'Tel-Aviv-University'}, {'name': 'Noga Alon', 'affiliation': 'Sackler School of Mathematics and Blavatnik School of Computer Science, Tel Aviv, Israel, and Harvard University'}, {'name': 'Noga Alon', 'affiliation': 'Tel Aviv University Tel Aviv, Israel'}, {'name': 'Noga Mordechai Alon'}, {'name': 'Noga Alon', 'affiliation': 'Tel Aviv University, Israel and Microsoft Research#TAB#'}, {'name': 'Noga Mordechai Alon', 'affiliation': 'Sackler School of Mathematics and Blavatnik School of Computer Science, Tel Aviv University, Tel Aviv 69978, Israel'}, {'name': 'Noga Mordechai Alon', 'affiliation': 'Department of Mathematics Princeton University Princeton NJ 08544 USA'}, {'name': 'Noga Mordechai Alon', 'affiliation': 'Sackler School of Mathematical Sciences and Blavatnik School of Computer Science; Tel Aviv University; Tel Aviv 6997801 Israel'}, {'name': 'Noga Alon', 'affiliation': 'Princeton University, USA / Tel Aviv University, Israel'}, {'name': 'Noga Alon', 'affiliation': 'Sackler School of Mathematics, Tel Aviv University, Tel Aviv, Israel'}, {'name': 'Noga Alon', 'affiliation': 'Department of Mathematics, Princeton University, Princeton, NJ, USA;'}, {'name': 'Noga Alon', 'affiliation': 'Princeton'}]}\n",
      "\n",
      "\n",
      "{'id': 1482108584, 'names': [{'name': 'Rafail Ostrovsky', 'affiliation': 'University\\xa0of California'}, {'name': 'Rafail Ostrovsky', 'affiliation': 'Department of Computer Science, University of California, Los Angeles, USA and Department of Mathematics, University of California, Los Angeles, USA#TAB#'}, {'name': 'Rafail Ostrovsky', 'affiliation': 'UCLA'}, {'name': 'Rafail Ostrovsky'}, {'name': 'Rafail Ostrovsky', 'affiliation': 'University of California Los Angeles, Los Angeles, CA, USA,'}, {'name': 'Rafail Ostrovsky', 'affiliation': 'Department of Computer Science and Department of Mathematics, University of California, Los Angeles, Los Angeles, USA'}, {'name': 'Rafail Ostrovsky', 'affiliation': 'University of california, Los Angeles'}, {'name': 'Rafail Ostrovsky', 'affiliation': 'UCLA, Los Angeles, USA'}, {'name': 'Rafail Ostrovsky', 'affiliation': 'Department of Computer Science and the Department of Mathematics, University of California at Los Angeles, Los Angeles, CA, USA'}, {'name': 'Rafail Ostrovsky', 'affiliation': 'University of California Los Angeles, Department of Computer Science and Mathematics, United States of America'}, {'name': 'Rafail Ostrovsky', 'affiliation': 'NSF'}]}\n",
      "\n",
      "\n",
      "{'id': 267627786, 'names': [{'name': 'Moshe Babaioff', 'affiliation': 'Microsoft Research, Herzliya Israel'}, {'name': 'Moshe Babaioff', 'affiliation': 'Microsoft Research Israel'}, {'name': 'Moshe Babaioff'}, {'name': 'Moshe Babaioff', 'affiliation': 'Microsoft Research,#TAB#'}, {'name': 'Moshe Babaioff', 'affiliation': ', Microsoft'}]}\n",
      "\n",
      "\n",
      "{'id': 2231056490, 'names': [{'name': 'Gustavo F. Tondello', 'affiliation': 'University of Waterloo, Waterloo, ON, Canada#TAB#'}, {'name': 'Gustavo Fortes Tondello', 'affiliation': 'University of Waterloo Canada#TAB#'}, {'name': 'Gustavo F. Tondello', 'affiliation': 'University of Waterloo, Waterloo, Canadá'}, {'name': 'Gustavo F. Tondello', 'affiliation': 'University of Waterloo and Federal University of Santa Catarina and University of Waterloo'}, {'name': 'Gustavo Fortes Tondello'}, {'name': 'Gustavo Fortes Tondello', 'affiliation': 'The Games Institute, University of Waterloo, Waterloo, Canada'}, {'name': 'Gustavo F. Tondello', 'affiliation': 'HCI Games Group, Games Institute University of Waterloo Waterloo, ON, Canada'}, {'name': 'Gustavo Fortes Tondello', 'affiliation': 'University of Waterloo and Federal University of Santa Catarina (UFSC), Brazil'}, {'name': 'Gustavo Fortes Tondello', 'affiliation': 'HCI Games Group, Games Institute, and Cheriton School of Computer Science, University of Waterloo, 200 University Avenue West, Waterloo, ON N2L 3G1, Canada'}, {'name': 'Gustavo Fortes Tondello', 'affiliation': 'HCI Games Group, Games Institute, University of Waterloo, Waterloo, Canada'}, {'name': 'Gustavo Fortes Tondello', 'affiliation': 'University of Waterloo, Waterloo, ON, Canada#TAB#'}]}\n",
      "\n",
      "\n",
      "{'id': 2240948906, 'names': [{'name': 'Itai Ashlagi', 'affiliation': 'Stanford University, Stanford, CA, USA    ('}, {'name': 'Itai Ashlagi'}, {'name': 'Itai Ashlagi', 'affiliation': 'Stanford, University'}, {'name': 'Itai Ashlagi', 'affiliation': 'MS&E Department, Stanford University, United States of America'}, {'name': 'Itai Ashlagi', 'affiliation': 'Management Science & Engineering, Stanford University, United States of America'}, {'name': 'Itai Ashlagi', 'affiliation': 'Stanford'}]}\n",
      "\n",
      "\n",
      "{'id': 2969768109, 'names': [{'name': 'Yang Cai'}, {'name': 'Yang Cai', 'affiliation': 'McGill University'}, {'name': 'Yang Cai', 'affiliation': 'Yale University, NEW HAVEN, CT, USA'}, {'name': 'Yang Cai', 'affiliation': 'McGill University, Montreal, Canada;'}]}\n",
      "\n",
      "\n",
      "{'id': 2550551728, 'names': [{'name': 'Mingfei Zhao', 'affiliation': 'McGill University, Canada#TAB#'}, {'name': 'Mingfei Zhao', 'affiliation': 'McGill University, Montréal, PQ, CANADA'}, {'name': 'Mingfei Zhao'}, {'name': 'Mingfei Zhao', 'affiliation': 'McGill University'}]}\n",
      "\n",
      "\n",
      "{'id': 19031441, 'names': [{'name': 'Noam Nisan', 'affiliation': 'Hebrew University of Jerusalem, Israel / Microsoft Research, Israel#TAB#'}, {'name': 'Noam Nisan', 'affiliation': 'The Hebrew University of Jerusalem & Microsoft Research, Jerusalem, Israel#TAB#'}, {'name': 'Noam Nisan'}, {'name': 'Noam Nisan', 'affiliation': 'Hebrew University and Microsoft Research, Jerusalem, Israel'}, {'name': 'Noam Nisan', 'affiliation': 'Hebrew University and Microsoft Research, Israel'}, {'name': 'Noam Nisan', 'affiliation': 'The Hebrew Univ. of Jerusalem, Jerusalem, Israel'}, {'name': 'Noam Nisan', 'affiliation': 'Hebrew University of Jerusalem, Jerusalem, Israel;'}, {'name': 'Noam Nisan', 'affiliation': 'Hebrew University of Jerusalem and Microsoft Research#TAB#'}, {'name': 'Noam Nisan', 'affiliation': 'Microsoft Research Israel'}, {'name': 'Noam Nisan', 'affiliation': 'Hebrew Univ. of Jerusalem (Israel)'}, {'name': 'Noam Nisan', 'affiliation': 'The Hebrew University of Jerusalem, Rachel & Selim Benin School of Computer Science & Engineering and Federmann Center for the Study of Rationality, Israel'}]}\n",
      "\n",
      "\n",
      "{'id': 2129354703, 'names': [{'name': 'Kira Goldner', 'affiliation': 'Oberlin College#TAB#'}, {'name': 'Kira Goldner', 'affiliation': 'University of Washington,'}, {'name': 'Kira Goldner'}, {'name': 'Kira Goldner', 'affiliation': 'University of Washington; Seattle WA USA'}, {'name': 'Kira Goldner', 'affiliation': '*Columbia University;'}]}\n",
      "\n",
      "\n",
      "{'id': 2043689715, 'names': [{'name': 'Assaf Romm', 'affiliation': 'Hebrew U Jerusalem'}, {'name': 'Assaf Romm'}, {'name': 'Assaf Romm', 'affiliation': 'Department of Economics, Hebrew University of Jerusalem, and Microsoft Research, Israel'}, {'name': 'Assaf Romm', 'affiliation': 'The Hebrew University of Jerusalem and Stanford University, Jerusalem, Israel'}]}\n",
      "\n",
      "\n",
      "{'id': 2114518581, 'names': [{'name': 'Shay Moran', 'affiliation': 'University of California at San Diego, USA / Simons Institute for the Theory of Computing Berkeley, USA'}, {'name': 'Shay Moran'}, {'name':"
     ]
    },
    {
     "data": {
      "text/html": [
       "<b>limit_output extension: Maximum message size of 10000 exceeded with 12019 characters</b>"
      ]
     },
     "metadata": {},
     "output_type": "display_data"
    }
   ],
   "source": [
    "for a in l:\n",
    "    print(a)\n",
    "    print('\\n')"
   ]
  },
  {
   "cell_type": "markdown",
   "metadata": {},
   "source": [
    "### 8)\n",
    "\n",
    "The Management anticipates that several queries based on authors and their connections will be required in the near future. You have been asked to take the necessary steps to ensure these queries are easier to express and faster to perform.\n",
    "\n",
    "Task : Create a collection named authors containing for each author a document like the one below:\n",
    "{\n",
    "_id: author's id\n",
    "name_affiliations: array of  {name: name, affiliation: affiliation} associated to author's id\n",
    "articles: array of article ids authored by this author id\n",
    "co-authors : Array of ids of co-authors\n",
    "}\n",
    "\n",
    "Hint: You may need to create an index to speed up this one. If you do, do it programatically as part of your function. \n",
    "\n",
    "Hint 2: We provide an authors.json with a sample of the expected output.\n",
    "\n",
    "[12 points]"
   ]
  },
  {
   "cell_type": "code",
   "execution_count": 57,
   "metadata": {
    "ExecuteTime": {
     "end_time": "2020-12-11T00:26:21.837998Z",
     "start_time": "2020-12-11T00:26:21.828051Z"
    }
   },
   "outputs": [],
   "source": [
    "def create_authors_collection(articles):\n",
    "    \"\"\"\n",
    "    :param: articles collection\n",
    "    : output: Pymongo cursor of the newly created authors collection\n",
    "    \"\"\"\n",
    "    \n",
    "    project_1 = {\"$project\": {\"_id\": 0,\"authors\": 1,\"id\": 1}}\n",
    "    \n",
    "    add_field = {\"$addFields\": {\"collated_authors_ids\": \"$authors.id\"}}\n",
    "    \n",
    "    unwind_authors = {\"$unwind\": \"$authors\"}\n",
    "    \n",
    "    group_author_ids = {\"$group\":{\n",
    "                        '_id': \"$authors.id\",\n",
    "                        \n",
    "                        \"articles\":\n",
    "                        {\n",
    "                            \"$push\": \"$id\"\n",
    "                        },\n",
    "\n",
    "                        \"coauthors_ids\":\n",
    "                        {\n",
    "                            \"$push\": \"$collated_authors_ids\"\n",
    "                        },\n",
    "                        \n",
    "                        \"names\": \n",
    "                        {\n",
    "                            \"$addToSet\": \n",
    "                            {\n",
    "                                \"name\": \"$authors.name\",\n",
    "                                \"affiliation\": \"$authors.org\"\n",
    "                            }\n",
    "                        }\n",
    "    }}\n",
    "    \n",
    "    set_new_id = {\"$set\": {\"new_id\": [\"$_id\"]}}\n",
    "    \n",
    "    project_difference = {\"$project\": {\n",
    "                                        \"_id\": 1,\n",
    "                                        \"articles\": 1,\n",
    "                                        \"names\": 1,\n",
    "                                        \"coauthors\": \n",
    "                                                    {\"$setDifference\": [\n",
    "                                                        {\"$reduce\": \n",
    "                                                          {\n",
    "                                                              \"input\": \"$coauthors_ids\", \n",
    "                                                              'initialValue': [], \n",
    "                                                              'in': {'$setUnion': [\"$$value\", \"$$this\"]}\n",
    "                                                          }\n",
    "                                                        }, \n",
    "                                                        \"$new_id\"]}\n",
    "    }}\n",
    "    \n",
    "    output = {\"$out\": \"authors\"}\n",
    "    \n",
    "    return articles.aggregate([project_1, \n",
    "                               add_field, \n",
    "                               unwind_authors, \n",
    "                               group_author_ids, \n",
    "                               set_new_id,\n",
    "                               project_difference,\n",
    "                               output], \n",
    "                              allowDiskUse=True)"
   ]
  },
  {
   "cell_type": "code",
   "execution_count": 58,
   "metadata": {
    "ExecuteTime": {
     "end_time": "2020-12-11T00:27:24.910848Z",
     "start_time": "2020-12-11T00:26:23.844900Z"
    }
   },
   "outputs": [],
   "source": [
    "cur = create_authors_collection(articles)"
   ]
  },
  {
   "cell_type": "markdown",
   "metadata": {},
   "source": [
    "### 9)\n",
    "\n",
    "\n",
    "The Management is investigating the ties of authors with different countries. They would like to know how many connections they have with colleagues from other countries, even if they are indirect.\n",
    "\n",
    "Task:\n",
    "\n",
    "Given an author id and the name of a country, return the ids of the authors in the network of co-authors of radius 3 (that is, three degrees of separation) that have an affiliation in that country.\n",
    "\n",
    "You may use the networkx package to help you with graph related computations. However, do consider the efficiency of the solution.\n",
    "\n",
    "\n",
    "\n",
    "[10 points]\n",
    "\n",
    "Clarification:\n",
    "\n",
    "* For this exercise, ignore authors without affiliation, or affiliations that do not explicitly include the name of the country. Consider them to not match the query.\n",
    "\n",
    "* The figure below provides an example input and output\n",
    "\n",
    "* What if I'm stuck with question 8)? You can use the sample provided for question 8 for development of questions 9) and 10).\n",
    "We will mark questions 9) and 10) by running them on the actual answer. Do note the actual answer is much larger than the sample, take this in consideration when designing your solution."
   ]
  },
  {
   "attachments": {
    "Example%20input.png": {
     "image/png": "[encoded data removed]"
    }
   },
   "cell_type": "markdown",
   "metadata": {},
   "source": [
    "![Example%20input.png](attachment:Example%20input.png)"
   ]
  },
  {
   "cell_type": "code",
   "execution_count": 2,
   "metadata": {
    "ExecuteTime": {
     "end_time": "2020-12-10T22:52:25.960440Z",
     "start_time": "2020-12-10T22:52:25.947754Z"
    }
   },
   "outputs": [],
   "source": [
    "def get_network(authors, author_id, country):\n",
    "    \"\"\"\n",
    "    Input: Authors collection, author_id, String country\n",
    "    Output: List of ids of authors at three or less hops of distance with an\n",
    "    affiliation that includes 'country'\n",
    "    \"\"\"\n",
    "    is_visited = set()\n",
    "    stack = []\n",
    "\n",
    "    graph = Graph()\n",
    "    is_visited.add(author_id)\n",
    "    graph.add_node(author_id, country_match=True)\n",
    "\n",
    "    cur = authors.find({\"_id\": author_id}, {\"coauthors\": 1})\n",
    "    for row in cur:\n",
    "        author_details = row\n",
    "    if \"coauthors\" in author_details:\n",
    "        if author_details[\"coauthors\"] != []:\n",
    "            for author in author_details[\"coauthors\"]:\n",
    "                stack.append((author_id, author))\n",
    "\n",
    "    while stack:\n",
    "        pair = stack.pop()\n",
    "        parent = pair[0]\n",
    "        child = pair[1]\n",
    "\n",
    "        cur = authors.find(\n",
    "            {\"_id\": child},\n",
    "            {\"names.affiliation\": {\"$regex\": \"*\" + country + \"*\",\n",
    "                                   \"$options\": \"i\"}},\n",
    "        )\n",
    "        graph.add_edge(parent, child)\n",
    "\n",
    "        if cur:\n",
    "            graph.nodes[child][\"country_match\"] = True\n",
    "        else:\n",
    "            graph.nodes[child][\"country_match\"] = False\n",
    "\n",
    "        is_visited.add(child)\n",
    "\n",
    "        cur = authors.find({\"_id\": child}, {\"coauthors\": 1})\n",
    "\n",
    "        for row in cur:\n",
    "            if row[\"_id\"] not in is_visited:\n",
    "                stack.append((child, row[\"_id\"]))\n",
    "\n",
    "    graph = ego_graph(graph, author_id, radius=3)\n",
    "    all_connected_nodes = list(graph.nodes())\n",
    "    return_list = []\n",
    "    for node in all_connected_nodes:\n",
    "        if graph.nodes[node][\"country_match\"]:\n",
    "            return_list.append(node)\n",
    "    return return_list"
   ]
  },
  {
   "cell_type": "code",
   "execution_count": 6,
   "metadata": {
    "ExecuteTime": {
     "end_time": "2020-12-10T22:52:56.880672Z",
     "start_time": "2020-12-10T22:52:56.778747Z"
    }
   },
   "outputs": [],
   "source": [
    "graph = get_network(authors, 44880, 'Spain')"
   ]
  },
  {
   "cell_type": "code",
   "execution_count": 7,
   "metadata": {
    "ExecuteTime": {
     "end_time": "2020-12-10T22:52:58.928913Z",
     "start_time": "2020-12-10T22:52:58.923975Z"
    }
   },
   "outputs": [
    {
     "name": "stdout",
     "output_type": "stream",
     "text": [
      "[44880, 2571834967, 2990662754, 2004887157, 225525199, 2311229737, 2040998117, 2013569670, 2694302404, 2990723644, 2989421000, 2629959355, 2190717548, 2915837130, 2911540316, 2980340419, 2164966972, 2171487651, 1844400128, 2798562566, 2099554632, 2612665046, 207769766, 1860074921, 2963326360, 714308370, 2138229758, 2593705452, 2591957861]\n"
     ]
    }
   ],
   "source": [
    "print(graph)"
   ]
  },
  {
   "cell_type": "markdown",
   "metadata": {},
   "source": [
    "### 10)\n",
    "\n",
    "The Management wants to analyse the community of authors that publish data science and their co-authors. In particular, how connected it is? \n",
    "\n",
    "Task:\n",
    "\n",
    "Produce the subgraph of authors that has published one or more 'Data science' articles and their co-authors and report the number of connected components and the size of the largest and smallest connected components.\n",
    "\n",
    "You may use the networkx package to help you with graph related computations. However, do consider the efficiency of the solution.\n",
    "\n",
    "[10 points]\n",
    "\n"
   ]
  },
  {
   "cell_type": "code",
   "execution_count": 31,
   "metadata": {
    "ExecuteTime": {
     "end_time": "2020-12-09T19:01:40.226335Z",
     "start_time": "2020-12-09T19:01:40.214955Z"
    }
   },
   "outputs": [],
   "source": [
    "def data_science_community(articles, authors):\n",
    "    \"\"\"\n",
    "    Input: Articles and authors collections. You may use only one of them\n",
    "    Output: 3-tuple reporting on subgraph of authors of data science articles\n",
    "    and their co-authors: (number of connected components,size of largest\n",
    "    connected component, size of smallest connected component)\n",
    "    \"\"\"\n",
    "    graph = Graph()\n",
    "\n",
    "    match_1_stage = {\"$match\": {\"fos.name\": \"Data science\"}}\n",
    "\n",
    "    project_stage = {\"$project\": {\"authors.id\": 1}}\n",
    "\n",
    "    unwind_stage = {\"$unwind\": \"$authors\"}\n",
    "\n",
    "    res_set = list(articles.aggregate([match_1_stage, project_stage,\n",
    "                                       unwind_stage]))\n",
    "\n",
    "    data_science_authors = set()\n",
    "    for res in res_set:\n",
    "        data_science_authors.add(res[\"authors\"][\"id\"])\n",
    "        graph.add_node(res[\"authors\"][\"id\"])\n",
    "\n",
    "    for author in data_science_authors:\n",
    "        author_records = authors.find({\"_id\": author})\n",
    "        for author_record in author_records:\n",
    "            co_authors = author_record[\"coauthors\"]\n",
    "            for co_author in co_authors:\n",
    "                graph.add_edge(author, co_author)\n",
    "\n",
    "    connected_items = connected_components(graph)\n",
    "    connected_graph = sorted(connected_items, key=len, reverse=True)\n",
    "\n",
    "    largest = len(list(graph.subgraph(connected_graph[0]).nodes()))\n",
    "    smallest = len(list(graph.subgraph(connected_graph[-1]).nodes()))\n",
    "\n",
    "    connected_items = connected_components(graph)\n",
    "    no_connected_components = len(list(connected_items))\n",
    "\n",
    "    return no_connected_components, largest, smallest"
   ]
  },
  {
   "cell_type": "code",
   "execution_count": 32,
   "metadata": {
    "ExecuteTime": {
     "end_time": "2020-12-09T19:02:09.840431Z",
     "start_time": "2020-12-09T19:01:43.328840Z"
    }
   },
   "outputs": [],
   "source": [
    "res = data_science_community(articles, authors)"
   ]
  },
  {
   "cell_type": "code",
   "execution_count": 33,
   "metadata": {
    "ExecuteTime": {
     "end_time": "2020-12-09T19:02:12.303236Z",
     "start_time": "2020-12-09T19:02:12.298379Z"
    }
   },
   "outputs": [
    {
     "data": {
      "text/plain": [
       "(43500, 6992, 1)"
      ]
     },
     "execution_count": 33,
     "metadata": {},
     "output_type": "execute_result"
    }
   ],
   "source": [
    "res"
   ]
  },
  {
   "cell_type": "markdown",
   "metadata": {},
   "source": [
    "## Task 2\n",
    "This task will assess your ability to use the Hadoop Streaming API and MapReduce to process data. For each of the questions below, you are expected to write two python scripts, one for the Map phase and one for the Reduce phase. You are also expected to provide the correct parameters to the `hadoop` command to run the MapReduce process. Write down your answers in the specified cells below.\n",
    "\n",
    "You will use the same dataset of articles that you used for task 1.\n",
    "\n",
    "To help you, `%%writefile` has been added to the top of the cells, automatically writing them to \"mapper.py\" and \"reducer.py\" respectively when the cells are run."
   ]
  },
  {
   "cell_type": "markdown",
   "metadata": {},
   "source": [
    "### 1) \n",
    "\n",
    "Answer Question 2) of task 1 using the MapReduce paradigm (repeated below for your convenience)\n",
    "\n",
    "Return the set of publishers of articles that are missing the doc_type property or have it equal to the empty string. \n",
    "\n",
    "[8 points]"
   ]
  },
  {
   "cell_type": "code",
   "execution_count": null,
   "metadata": {},
   "outputs": [],
   "source": [
    "%%writefile mapper.py\n",
    "#!/usr/bin/env python\n",
    "#Answer for mapper.py\n",
    "\n",
    "import sys\n",
    "lines = sys.stdin.readlines()\n",
    "\n",
    "for line in lines:\n",
    "    if line.find('\"publisher\"') != -1 and (line.find(\"doc_type\") == -1 or line.find('\"doc_type\":\"\"') != -1):\n",
    "        token = line.split('\"publisher\":\"')[1].split('\",')[0]\n",
    "        if token != '':\n",
    "            print(token + \"\\t1\")\n"
   ]
  },
  {
   "cell_type": "code",
   "execution_count": null,
   "metadata": {},
   "outputs": [],
   "source": [
    "%%writefile reducer.py\n",
    "#!/usr/bin/env python\n",
    "#Answer for reducer.py\n",
    "\n",
    "import sys\n",
    "from collections import defaultdict\n",
    "\n",
    "input_pairs = sys.stdin.readlines()\n",
    "\n",
    "accumulator = defaultdict(lambda: 0)\n",
    "\n",
    "for row in input_pairs:\n",
    "    # Split the line into our key value pair.\n",
    "    key_value_pair = row.split(\"\\t\", 1)\n",
    "    \n",
    "    # If we don't have a pair, ignore the line, as something has gone wrong.\n",
    "    if len(key_value_pair) != 2:\n",
    "        continue\n",
    "        \n",
    "    word = key_value_pair[0]\n",
    "    # Strip removes whitespace at the start and end of a string. In this case, making sure we have just a number.\n",
    "    # We also convert it to an integer here.\n",
    "    count = int(key_value_pair[1].strip())\n",
    "    \n",
    "    # Retrieve the count of that word we've seen so far, add to it, then store the result.\n",
    "    accumulator[word] = accumulator[word] + count\n",
    "    \n",
    "for (key, value) in accumulator.items():\n",
    "    #print(key + \"\\t\" + str(value))\n",
    "    print('name-' + key)"
   ]
  },
  {
   "cell_type": "code",
   "execution_count": null,
   "metadata": {},
   "outputs": [],
   "source": [
    "%%bash\n",
    "#Hadoop command to run the map reduce.\n",
    "\n",
    "rm -rf output\n",
    "\n",
    "hadoop-standalone-mode.sh\n",
    "\n",
    "hadoop jar $HADOOP_HOME/share/hadoop/tools/lib/hadoop-streaming-*.jar \\\n",
    "-files mapper.py,reducer.py \\\n",
    "-input articles.json \\\n",
    "-mapper ./mapper.py \\\n",
    "-reducer ./reducer.py \\\n",
    "-output output"
   ]
  },
  {
   "cell_type": "markdown",
   "metadata": {},
   "source": [
    "### 2) \n",
    "Answer Question 5) of task 1 using the MapReduce paradigm (repeated below for your convenience)\n",
    "\n",
    "Do longer articles (in number of pages) have more references?\n",
    "\n",
    "Task:\n",
    "\n",
    "Return an histogram dictionary with the following specification:\n",
    "\n",
    "{\n",
    "\"1-5\" : Average references of articles between 1 and 5 pages inclusive\n",
    "\n",
    "\"6-10\" : Average references of articles between 6 and 10 pages inclusive\n",
    "\n",
    "\"11-15\" : Average references of articles between 11 and 15 pages inclusive\n",
    "\n",
    "\"16-20\" : Average references of articles between 16 and 20 pages inclusive\n",
    "\n",
    "\"21-25\" : Average references of articles between 21 and 25 pages inclusive\n",
    "\n",
    "\"25-30\" : Average references of articles between 25 and 30 pages inclusive\n",
    "\n",
    "\">30\" : Average references of articles with more than 30 pages\n",
    "}\n",
    "\n",
    "A fellow data scientist of your team has found that some articles have no 'references' field, while others have unusually large page numbers. The Management decides that for this task you should\n",
    "\n",
    "* Ignore articles that do not have references\n",
    "* Ignore articles with page numbers greater than 6 digits\n",
    "\n",
    "\n",
    "Clarifications:\n",
    "*) Articles that start and end at the same page have 1 page, not zero!\n",
    "\n",
    "\n",
    "[12 points]"
   ]
  },
  {
   "cell_type": "code",
   "execution_count": 13,
   "metadata": {
    "ExecuteTime": {
     "end_time": "2020-11-29T01:49:07.119593Z",
     "start_time": "2020-11-29T01:49:07.107080Z"
    }
   },
   "outputs": [
    {
     "name": "stdout",
     "output_type": "stream",
     "text": [
      "Overwriting mapper2.py\n"
     ]
    }
   ],
   "source": [
    "%%writefile mapper2.py\n",
    "#!/usr/bin/env python\n",
    "#Answer for mapper.py\n",
    "\n",
    "import sys\n",
    "lines = sys.stdin.readlines()\n",
    "\n",
    "for line in lines:\n",
    "    if line.find('page_start')!= -1 and line.find('page_end')!= -1 and line.find('references')!= -1:\n",
    "        try:\n",
    "            page_start = int(line.split('\"page_start\":\"')[1].split('\",')[0])\n",
    "            page_end = int(line.split('\"page_end\":\"')[1].split('\",')[0])\n",
    "            no_of_pages =  page_end - page_start + 1\n",
    "            no_of_references = len(line.split('\"references\":[')[1].split(']')[0].split(','))\n",
    "            \n",
    "            if page_start < 100000 and page_end < 100000 and no_of_pages < 100000:\n",
    "                print(str(no_of_pages) + '\\t' + str(no_of_references))\n",
    "        except:\n",
    "            pass"
   ]
  },
  {
   "cell_type": "code",
   "execution_count": 14,
   "metadata": {
    "ExecuteTime": {
     "end_time": "2020-11-29T01:49:07.913849Z",
     "start_time": "2020-11-29T01:49:07.906277Z"
    }
   },
   "outputs": [
    {
     "name": "stdout",
     "output_type": "stream",
     "text": [
      "Overwriting reducer2.py\n"
     ]
    }
   ],
   "source": [
    "%%writefile reducer2.py\n",
    "#!/usr/bin/env python\n",
    "#Answer for reducer.py\n",
    "\n",
    "import sys\n",
    "from collections import defaultdict\n",
    "\n",
    "input_pairs = sys.stdin.readlines()\n",
    "\n",
    "# Create a default dictionary. \n",
    "# This is a key-value store (dictionary) which returns a default value if the key hasn't been added.\n",
    "\n",
    "accumulator = defaultdict(lambda: 0)\n",
    "\n",
    "bin_frequency = defaultdict(lambda: 0)\n",
    "bin_sum = defaultdict(lambda: 0)\n",
    "\n",
    "for row in input_pairs:\n",
    "    # Split the line into our key value pair.\n",
    "    key_value_pair = row.split(\"\\t\", 1)\n",
    "    \n",
    "    # If we don't have a pair, ignore the line, as something has gone wrong.\n",
    "    if len(key_value_pair) != 2:\n",
    "        continue\n",
    "        \n",
    "    no_of_pages = int(key_value_pair[0])\n",
    "    # Strip removes whitespace at the start and end of a string. In this case, making sure we have just a number.\n",
    "    # We also convert it to an integer here.\n",
    "    no_of_references = int(key_value_pair[1].strip())\n",
    "    if no_of_pages <=5:\n",
    "        bin_frequency['1-5'] = bin_frequency['1-5'] + 1\n",
    "        bin_sum['1-5'] = bin_sum['1-5'] + no_of_references\n",
    "    elif no_of_pages <=10:\n",
    "        bin_frequency['6-10'] = bin_frequency['6-10'] + 1\n",
    "        bin_sum['6-10'] = bin_sum['6-10'] + no_of_references\n",
    "    elif no_of_pages <=15:\n",
    "        bin_frequency['11-15'] = bin_frequency['11-15'] + 1\n",
    "        bin_sum['11-15'] = bin_sum['11-15'] + no_of_references\n",
    "    elif no_of_pages <=20:\n",
    "        bin_frequency['16-20'] = bin_frequency['16-20'] + 1\n",
    "        bin_sum['16-20'] = bin_sum['16-20'] + no_of_references\n",
    "    elif no_of_pages <=25:\n",
    "        bin_frequency['21-25'] = bin_frequency['21-25'] + 1\n",
    "        bin_sum['21-25'] = bin_sum['21-25'] + no_of_references\n",
    "    elif no_of_pages <=30:\n",
    "        bin_frequency['26-30'] = bin_frequency['26-30'] + 1\n",
    "        bin_sum['26-30'] = bin_sum['26-30'] + no_of_references\n",
    "    else:\n",
    "        bin_frequency['>30'] = bin_frequency['>30'] + 1\n",
    "        bin_sum['>30'] = bin_sum['>30'] + no_of_references\n",
    "\n",
    "key_list = ['1-5', '6-10', '11-15', '16-20', '21-25', '26-30', '>30']\n",
    "for key in key_list:\n",
    "    print(key + \"\t\" + str(bin_sum[key]/bin_frequency[key]))\n",
    "    #print(key + \"\t\" + str(bin_sum[key]))\n"
   ]
  },
  {
   "cell_type": "code",
   "execution_count": 15,
   "metadata": {
    "ExecuteTime": {
     "end_time": "2020-11-29T01:49:35.844139Z",
     "start_time": "2020-11-29T01:49:09.583050Z"
    }
   },
   "outputs": [
    {
     "name": "stdout",
     "output_type": "stream",
     "text": [
      "Hadoop switched to standalone mode.\n"
     ]
    },
    {
     "name": "stderr",
     "output_type": "stream",
     "text": [
      "20/11/29 01:49:10 INFO Configuration.deprecation: session.id is deprecated. Instead, use dfs.metrics.session-id\n",
      "20/11/29 01:49:10 INFO jvm.JvmMetrics: Initializing JVM Metrics with processName=JobTracker, sessionId=\n",
      "20/11/29 01:49:10 INFO jvm.JvmMetrics: Cannot initialize JVM Metrics with processName=JobTracker, sessionId= - already initialized\n",
      "20/11/29 01:49:11 INFO mapred.FileInputFormat: Total input files to process : 1\n",
      "20/11/29 01:49:11 INFO mapreduce.JobSubmitter: number of splits:37\n",
      "20/11/29 01:49:11 INFO mapreduce.JobSubmitter: Submitting tokens for job: job_local1990595608_0001\n",
      "20/11/29 01:49:11 INFO mapred.LocalDistributedCacheManager: Localized file:/home/comp6235/sharang/CW2/mapper2.py as file:/tmp/hadoop-comp6235/mapred/local/1606614551463/mapper2.py\n",
      "20/11/29 01:49:11 INFO mapred.LocalDistributedCacheManager: Localized file:/home/comp6235/sharang/CW2/reducer2.py as file:/tmp/hadoop-comp6235/mapred/local/1606614551464/reducer2.py\n",
      "20/11/29 01:49:11 INFO mapreduce.Job: The url to track the job: http://localhost:8080/\n",
      "20/11/29 01:49:11 INFO mapreduce.Job: Running job: job_local1990595608_0001\n",
      "20/11/29 01:49:11 INFO mapred.LocalJobRunner: OutputCommitter set in config null\n",
      "20/11/29 01:49:11 INFO mapred.LocalJobRunner: OutputCommitter is org.apache.hadoop.mapred.FileOutputCommitter\n",
      "20/11/29 01:49:11 INFO output.FileOutputCommitter: File Output Committer Algorithm version is 1\n",
      "20/11/29 01:49:11 INFO output.FileOutputCommitter: FileOutputCommitter skip cleanup _temporary folders under output directory:false, ignore cleanup failures: false\n",
      "20/11/29 01:49:11 INFO mapred.LocalJobRunner: Waiting for map tasks\n",
      "20/11/29 01:49:11 INFO mapred.LocalJobRunner: Starting task: attempt_local1990595608_0001_m_000000_0\n",
      "20/11/29 01:49:11 INFO output.FileOutputCommitter: File Output Committer Algorithm version is 1\n",
      "20/11/29 01:49:11 INFO output.FileOutputCommitter: FileOutputCommitter skip cleanup _temporary folders under output directory:false, ignore cleanup failures: false\n",
      "20/11/29 01:49:11 INFO mapred.Task:  Using ResourceCalculatorProcessTree : [ ]\n",
      "20/11/29 01:49:11 INFO mapred.MapTask: Processing split: file:/home/comp6235/sharang/CW2/articles.json:0+33554432\n",
      "20/11/29 01:49:11 INFO mapred.MapTask: numReduceTasks: 1\n",
      "20/11/29 01:49:11 INFO mapred.MapTask: (EQUATOR) 0 kvi 26214396(104857584)\n",
      "20/11/29 01:49:11 INFO mapred.MapTask: mapreduce.task.io.sort.mb: 100\n",
      "20/11/29 01:49:11 INFO mapred.MapTask: soft limit at 83886080\n",
      "20/11/29 01:49:11 INFO mapred.MapTask: bufstart = 0; bufvoid = 104857600\n",
      "20/11/29 01:49:11 INFO mapred.MapTask: kvstart = 26214396; length = 6553600\n",
      "20/11/29 01:49:11 INFO mapred.MapTask: Map output collector class = org.apache.hadoop.mapred.MapTask$MapOutputBuffer\n",
      "20/11/29 01:49:11 INFO streaming.PipeMapRed: PipeMapRed exec [/home/comp6235/sharang/CW2/././mapper2.py]\n",
      "20/11/29 01:49:11 INFO Configuration.deprecation: mapred.work.output.dir is deprecated. Instead, use mapreduce.task.output.dir\n",
      "20/11/29 01:49:11 INFO Configuration.deprecation: map.input.start is deprecated. Instead, use mapreduce.map.input.start\n",
      "20/11/29 01:49:11 INFO Configuration.deprecation: mapred.task.is.map is deprecated. Instead, use mapreduce.task.ismap\n",
      "20/11/29 01:49:11 INFO Configuration.deprecation: mapred.task.id is deprecated. Instead, use mapreduce.task.attempt.id\n",
      "20/11/29 01:49:11 INFO Configuration.deprecation: mapred.tip.id is deprecated. Instead, use mapreduce.task.id\n",
      "20/11/29 01:49:11 INFO Configuration.deprecation: mapred.local.dir is deprecated. Instead, use mapreduce.cluster.local.dir\n",
      "20/11/29 01:49:11 INFO Configuration.deprecation: map.input.file is deprecated. Instead, use mapreduce.map.input.file\n",
      "20/11/29 01:49:11 INFO Configuration.deprecation: mapred.skip.on is deprecated. Instead, use mapreduce.job.skiprecords\n",
      "20/11/29 01:49:11 INFO Configuration.deprecation: map.input.length is deprecated. Instead, use mapreduce.map.input.length\n",
      "20/11/29 01:49:11 INFO Configuration.deprecation: mapred.job.id is deprecated. Instead, use mapreduce.job.id\n",
      "20/11/29 01:49:11 INFO Configuration.deprecation: user.name is deprecated. Instead, use mapreduce.job.user.name\n",
      "20/11/29 01:49:11 INFO Configuration.deprecation: mapred.task.partition is deprecated. Instead, use mapreduce.task.partition\n",
      "20/11/29 01:49:12 INFO streaming.PipeMapRed: R/W/S=1/0/0 in:NA [rec/s] out:NA [rec/s]\n",
      "20/11/29 01:49:12 INFO streaming.PipeMapRed: R/W/S=10/0/0 in:NA [rec/s] out:NA [rec/s]\n",
      "20/11/29 01:49:12 INFO streaming.PipeMapRed: R/W/S=100/0/0 in:NA [rec/s] out:NA [rec/s]\n",
      "20/11/29 01:49:12 INFO streaming.PipeMapRed: R/W/S=1000/0/0 in:NA [rec/s] out:NA [rec/s]\n",
      "20/11/29 01:49:12 INFO streaming.PipeMapRed: R/W/S=10000/0/0 in:NA [rec/s] out:NA [rec/s]\n",
      "20/11/29 01:49:12 INFO streaming.PipeMapRed: Records R/W=23473/1\n",
      "20/11/29 01:49:12 INFO mapreduce.Job: Job job_local1990595608_0001 running in uber mode : false\n",
      "20/11/29 01:49:12 INFO mapreduce.Job:  map 0% reduce 0%\n",
      "20/11/29 01:49:12 INFO streaming.PipeMapRed: MRErrorThread done\n",
      "20/11/29 01:49:12 INFO streaming.PipeMapRed: mapRedFinished\n",
      "20/11/29 01:49:12 INFO mapred.LocalJobRunner: \n",
      "20/11/29 01:49:12 INFO mapred.MapTask: Starting flush of map output\n",
      "20/11/29 01:49:12 INFO mapred.MapTask: Spilling map output\n",
      "20/11/29 01:49:12 INFO mapred.MapTask: bufstart = 0; bufend = 114178; bufvoid = 104857600\n",
      "20/11/29 01:49:12 INFO mapred.MapTask: kvstart = 26214396(104857584); kvend = 26132228(104528912); length = 82169/6553600\n",
      "20/11/29 01:49:12 INFO mapred.MapTask: Finished spill 0\n",
      "20/11/29 01:49:12 INFO mapred.Task: Task:attempt_local1990595608_0001_m_000000_0 is done. And is in the process of committing\n",
      "20/11/29 01:49:12 INFO mapred.LocalJobRunner: Records R/W=23473/1\n",
      "20/11/29 01:49:12 INFO mapred.Task: Task 'attempt_local1990595608_0001_m_000000_0' done.\n",
      "20/11/29 01:49:12 INFO mapred.Task: Final Counters for attempt_local1990595608_0001_m_000000_0: Counters: 17\n",
      "\tFile System Counters\n",
      "\t\tFILE: Number of bytes read=33700795\n",
      "\t\tFILE: Number of bytes written=802196\n",
      "\t\tFILE: Number of read operations=0\n",
      "\t\tFILE: Number of large read operations=0\n",
      "\t\tFILE: Number of write operations=0\n",
      "\tMap-Reduce Framework\n",
      "\t\tMap input records=23473\n",
      "\t\tMap output records=20543\n",
      "\t\tMap output bytes=114178\n",
      "\t\tMap output materialized bytes=155270\n",
      "\t\tInput split bytes=97\n",
      "\t\tCombine input records=0\n",
      "\t\tSpilled Records=20543\n",
      "\t\tFailed Shuffles=0\n",
      "\t\tMerged Map outputs=0\n",
      "\t\tGC time elapsed (ms)=0\n",
      "\t\tTotal committed heap usage (bytes)=216530944\n",
      "\tFile Input Format Counters \n",
      "\t\tBytes Read=33558528\n",
      "20/11/29 01:49:12 INFO mapred.LocalJobRunner: Finishing task: attempt_local1990595608_0001_m_000000_0\n",
      "20/11/29 01:49:12 INFO mapred.LocalJobRunner: Starting task: attempt_local1990595608_0001_m_000001_0\n",
      "20/11/29 01:49:12 INFO output.FileOutputCommitter: File Output Committer Algorithm version is 1\n",
      "20/11/29 01:49:12 INFO output.FileOutputCommitter: FileOutputCommitter skip cleanup _temporary folders under output directory:false, ignore cleanup failures: false\n",
      "20/11/29 01:49:12 INFO mapred.Task:  Using ResourceCalculatorProcessTree : [ ]\n",
      "20/11/29 01:49:12 INFO mapred.MapTask: Processing split: file:/home/comp6235/sharang/CW2/articles.json:33554432+33554432\n",
      "20/11/29 01:49:12 INFO mapred.MapTask: numReduceTasks: 1\n",
      "20/11/29 01:49:12 INFO mapred.MapTask: (EQUATOR) 0 kvi 26214396(104857584)\n",
      "20/11/29 01:49:12 INFO mapred.MapTask: mapreduce.task.io.sort.mb: 100\n",
      "20/11/29 01:49:12 INFO mapred.MapTask: soft limit at 83886080\n",
      "20/11/29 01:49:12 INFO mapred.MapTask: bufstart = 0; bufvoid = 104857600\n",
      "20/11/29 01:49:12 INFO mapred.MapTask: kvstart = 26214396; length = 6553600\n",
      "20/11/29 01:49:12 INFO mapred.MapTask: Map output collector class = org.apache.hadoop.mapred.MapTask$MapOutputBuffer\n",
      "20/11/29 01:49:12 INFO streaming.PipeMapRed: PipeMapRed exec [/home/comp6235/sharang/CW2/././mapper2.py]\n",
      "20/11/29 01:49:12 INFO streaming.PipeMapRed: R/W/S=1/0/0 in:NA [rec/s] out:NA [rec/s]\n",
      "20/11/29 01:49:12 INFO streaming.PipeMapRed: R/W/S=10/0/0 in:NA [rec/s] out:NA [rec/s]\n",
      "20/11/29 01:49:12 INFO streaming.PipeMapRed: R/W/S=100/0/0 in:NA [rec/s] out:NA [rec/s]\n",
      "20/11/29 01:49:12 INFO streaming.PipeMapRed: R/W/S=1000/0/0 in:NA [rec/s] out:NA [rec/s]\n",
      "20/11/29 01:49:13 INFO streaming.PipeMapRed: R/W/S=10000/0/0 in:NA [rec/s] out:NA [rec/s]\n",
      "20/11/29 01:49:13 INFO streaming.PipeMapRed: Records R/W=22757/1\n",
      "20/11/29 01:49:13 INFO streaming.PipeMapRed: MRErrorThread done\n",
      "20/11/29 01:49:13 INFO streaming.PipeMapRed: mapRedFinished\n",
      "20/11/29 01:49:13 INFO mapred.LocalJobRunner: \n",
      "20/11/29 01:49:13 INFO mapred.MapTask: Starting flush of map output\n",
      "20/11/29 01:49:13 INFO mapred.MapTask: Spilling map output\n",
      "20/11/29 01:49:13 INFO mapred.MapTask: bufstart = 0; bufend = 109159; bufvoid = 104857600\n",
      "20/11/29 01:49:13 INFO mapred.MapTask: kvstart = 26214396(104857584); kvend = 26135044(104540176); length = 79353/6553600\n",
      "20/11/29 01:49:13 INFO mapred.MapTask: Finished spill 0\n",
      "20/11/29 01:49:13 INFO mapred.Task: Task:attempt_local1990595608_0001_m_000001_0 is done. And is in the process of committing\n",
      "20/11/29 01:49:13 INFO mapred.LocalJobRunner: Records R/W=22757/1\n",
      "20/11/29 01:49:13 INFO mapred.Task: Task 'attempt_local1990595608_0001_m_000001_0' done.\n",
      "20/11/29 01:49:13 INFO mapred.Task: Final Counters for attempt_local1990595608_0001_m_000001_0: Counters: 17\n",
      "\tFile System Counters\n",
      "\t\tFILE: Number of bytes read=67262959\n",
      "\t\tFILE: Number of bytes written=951071\n",
      "\t\tFILE: Number of read operations=0\n",
      "\t\tFILE: Number of large read operations=0\n",
      "\t\tFILE: Number of write operations=0\n",
      "\tMap-Reduce Framework\n",
      "\t\tMap input records=22757\n",
      "\t\tMap output records=19839\n",
      "\t\tMap output bytes=109159\n",
      "\t\tMap output materialized bytes=148843\n",
      "\t\tInput split bytes=97\n",
      "\t\tCombine input records=0\n",
      "\t\tSpilled Records=19839\n",
      "\t\tFailed Shuffles=0\n",
      "\t\tMerged Map outputs=0\n",
      "\t\tGC time elapsed (ms)=0\n",
      "\t\tTotal committed heap usage (bytes)=321912832\n",
      "\tFile Input Format Counters \n",
      "\t\tBytes Read=33558528\n",
      "20/11/29 01:49:13 INFO mapred.LocalJobRunner: Finishing task: attempt_local1990595608_0001_m_000001_0\n",
      "20/11/29 01:49:13 INFO mapred.LocalJobRunner: Starting t"
     ]
    },
    {
     "data": {
      "text/html": [
       "<b>limit_output extension: Maximum message size of 10000 exceeded with 155173 characters</b>"
      ]
     },
     "metadata": {},
     "output_type": "display_data"
    }
   ],
   "source": [
    "%%bash\n",
    "#Hadoop command to run the map reduce.\n",
    "\n",
    "rm -rf output2\n",
    "\n",
    "hadoop-standalone-mode.sh\n",
    "\n",
    "hadoop jar $HADOOP_HOME/share/hadoop/tools/lib/hadoop-streaming-*.jar \\\n",
    "-files mapper2.py,reducer2.py \\\n",
    "-input articles.json \\\n",
    "-mapper ./mapper2.py \\\n",
    "-reducer ./reducer2.py \\\n",
    "-output output2"
   ]
  },
  {
   "cell_type": "code",
   "execution_count": null,
   "metadata": {},
   "outputs": [],
   "source": [
    "#Expected key-value output format:\n",
    "#1-5\taverage\n",
    "#6-10\taverage"
   ]
  },
  {
   "cell_type": "markdown",
   "metadata": {},
   "source": [
    "### Marking scheme\n",
    "\n",
    "- The result provided is correct: An incorrect answer will have between 0% and 40% of the mark depending on the nature of the mistake. Questions where there was only one answer possible will have 0%, questions where the result is correct in some cases and not others will be marked at 20% or 40%\n",
    "\n",
    "- The result is provided in the expected format and output: 25% will be deducted to correct results that are not in the expected format\n",
    "\n",
    "- Efficiency of the answer: Measured in terms of execution time. There are many ways to reach the correct result, some of them are more efficient than others, some are equally efficient. 20% or 40% of the mark will be deducted to correct, but inefficient answers. Answers that take more than 1 hour will be considered timed-out and assumed incorrect.  \n",
    "\n",
    "In other words, if you have the correct result in the correct format, you have secured 60%, if your answer is efficient, you get 100%, if it is less efficient, 80%, if it is very slow, 60%.\n",
    "\n",
    "Feel free to create as many notebooks as you want for experimenting and transcribe your final answer to the one you will deliver.\n",
    "\n"
   ]
  },
  {
   "cell_type": "markdown",
   "metadata": {},
   "source": [
    "### For your own further development\n",
    "\n",
    "Some pointers for you to think about, or even try to implement, for your further professional development (Not part of this coursework due to time and effort constraints)\n",
    "\n",
    "* Under what circumstances would you materialise (add explicitly to the documents) some of the values you computed in this exercise\n",
    "* Under which circumstances would you recommend The Management to create a dedicated graph database instance for authors data? How would you model it?\n",
    "* Reflect about the differences between MapReduce and MOngoDB. When would you apply MapReduce with Hadoop and when would you load the data in MongoDB? Can you think in aggregations where MapReduce is the only way?\n"
   ]
  }
 ],
 "metadata": {
  "anaconda-cloud": {},
  "celltoolbar": "Raw Cell Format",
  "kernelspec": {
   "display_name": "Python 3",
   "language": "python",
   "name": "python3"
  },
  "language_info": {
   "codemirror_mode": {
    "name": "ipython",
    "version": 3
   },
   "file_extension": ".py",
   "mimetype": "text/x-python",
   "name": "python",
   "nbconvert_exporter": "python",
   "pygments_lexer": "ipython3",
   "version": "3.8.5"
  }
 },
 "nbformat": 4,
 "nbformat_minor": 2
}
